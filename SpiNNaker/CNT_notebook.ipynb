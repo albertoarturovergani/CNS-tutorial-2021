{
 "cells": [
  {
   "cell_type": "markdown",
   "metadata": {},
   "source": [
    "# Computational Neuroscience course\n",
    "\n",
    "3rd session (Friday, April 23 2021): \n",
    "- Introduction to the modeling of realistic spiking neural networks by showing how to \n",
    "    - 1/ use a remote computational facility \n",
    "    - 2/ follow simple tutorials to model a spiking neural net \n",
    "    - 3/ apply this knowledge to a real-world use case\n",
    "    \n",
    "    \n",
    "- Morning (Alberto, alberto.vergani@univ-amu.fr) : \n",
    "  - 9:00 - 12:30, introduction to simulating spiking neuronal networks by applying the theory on the eBrains platform\n",
    "  \n",
    "\n",
    "- Afternoon (Laurent, laurent.perrinet@univ.amu.fr) : \n",
    "  - 14:00 - 17:30, a practical application for the replication of a neurophysiological study \n",
    "  [[link]](https://github.com/CONECT-INT/2021-04-23_PhDProgram-course-in-computational-neurosciences)"
   ]
  },
  {
   "cell_type": "markdown",
   "metadata": {},
   "source": [
    "# EBRAINS Neuromorphic services and HBP\n",
    "\n",
    "- Ebrains https://ebrains.eu/ and the The Human Brain Project https://www.humanbrainproject.eu/en/\n",
    "- In particular, see https://ebrains.eu/service/neuromorphic-computing/\n",
    "\n",
    "- Digital computation / Simulation / SpiNNaker / neurons are software\n",
    "- Analog computation / Emulation / BrainScales / neurons are hardware\n",
    "    "
   ]
  },
  {
   "cell_type": "markdown",
   "metadata": {},
   "source": [
    "## machine resources"
   ]
  },
  {
   "cell_type": "markdown",
   "metadata": {},
   "source": [
    "- BrainScaleS\n",
    "     - Kirchhoff Institut Für Physik, Heidelberg University, DE\n",
    "     - physical (analogue or mixed-signal) emulations of neuron, synapse and plasticity models \n",
    "     - digital connectivity\n",
    "     - ten thousand times faster than real time\n",
    "     - access with https://wiki.ebrains.eu/bin/view/Collabs/neuromorphic/BrainScaleS/\n",
    "\n",
    "<img align=\"center\"      \n",
    "     src=\"https://electronicvisions.github.io/hbp-sp9-guidebook/_images/6D_0073294_Racks_19WaferSystemsInstalled_30March2016_cropped_1000px.jpg\" width=\"500\" height=\"500\" />\n",
    "\n",
    "- SpiNNaker \n",
    "    - School of Computer Science, University of Manchester, UK\n",
    "    - SpiNNaker (Spiking Neural Network Architecture) is a massively parallel manycore supercomputer \n",
    "    - numerical models running in real time on custom digital multicore chips\n",
    "    - using the ARM architecture https://www.youtube.com/watch?v=EhPpxsK2Ia0\n",
    "    - access with https://wiki.ebrains.eu/bin/view/Collabs/neuromorphic/SpiNNaker/\n",
    "\n",
    "<img align=\"center\"        \n",
    " src=\"https://www.zdnet.fr/i/edit/ne/2019/01/spinnaker-at-univ-manchester.jpg\" width=\"500\" height=\"500\" />\n"
   ]
  },
  {
   "cell_type": "markdown",
   "metadata": {},
   "source": [
    "# More info about SpiNNaker\n",
    "\n",
    "- Jupyter Lab login at https://spinn-20.cs.man.ac.uk/hub/home\n",
    "\n",
    "- It's composed of 57,600 processing nodes, each with 18 ARM9 processors and 128 MB of mobile DDR SDRAM, totalling 1,036,800 cores and over 7 TB of RAM\n",
    "\n",
    "- The completed design is housed in 10 19-inch racks, with each rack holding over 100,000 cores\n",
    "\n",
    "- Each core simulates 1,000 neurons (the goal is to simulate up to a billion neurons in real time)\n",
    "\n",
    "- SpiNNaker requires about 100 kW from a 240 V supply and an air-conditioned environment\n",
    "\n",
    "- SpiNNaker the hardware http://apt.cs.manchester.ac.uk/projects/SpiNNaker/\n",
    "\n",
    "- sPyNNaker the software https://www.frontiersin.org/articles/10.3389/fnins.2018.00816/full\n",
    "\n",
    "- Supported features http://spinnakermanchester.github.io/spynnaker/4.0.0/SPyNNakerLimitations.html\n",
    "    \n",
    "- PDF document https://spynnaker.readthedocs.io/_/downloads/en/latest/pdf/\n",
    "\n",
    "- PDF short induction http://spinnakermanchester.github.io/spynnaker/4.0.0/RunningPyNNSimulationsonSpiNNaker-LabManual.pdf\n",
    "\n",
    "- SpiNNaker mailing list google https://groups.google.com/g/spinnakerusers?pli=1\n",
    "\n",
    "- Youtube video https://www.youtube.com/watch?v=V3MlOAru6Qk\n",
    "\n",
    "- comparison among SpiNNaker and NEST with HPC,  van Albada et al 2018 https://www.frontiersin.org/articles/10.3389/fnins.2018.00291/full\n",
    "\n",
    "> With approximately 80, 000 neurons and 0.3 billion synapses, this model is the largest simulated on SpiNNaker to date. (...) Comparison with simulations using the NEST software on a high-performance cluster shows that both simulators can reach a similar accuracy, despite the fixed-point arithmetic of SpiNNaker, demonstrating the usability of SpiNNaker for computational neuroscience applications with biological time scales and large network size."
   ]
  },
  {
   "cell_type": "markdown",
   "metadata": {},
   "source": [
    "# Info about PyNN \n",
    "\n",
    "![](https://neuralensemble.org/static/photos/pynn_logo.png)\n",
    "\n",
    "- A Python package for simulator-independent specification of neuronal network models\n",
    "\n",
    "- PyNN works with multiple simulators (SpiNNaker, NEST, Brain, Neuron, etc)\n",
    "\n",
    "- If you want to install install PyNN on your local machine, see info http://neuralensemble.org/docs/PyNN/installation.html\n",
    "\n",
    "- Paper https://www.ncbi.nlm.nih.gov/pmc/articles/PMC2634533/\n",
    "\n",
    "- PyNN website http://neuralensemble.org/docs/PyNN/index.html\n",
    "\n",
    "- PyNN mailing list https://groups.google.com/g/neuralensemble\n",
    "\n"
   ]
  },
  {
   "cell_type": "markdown",
   "metadata": {},
   "source": [
    "# Goal of this tutorial on PyNN\n",
    "\n",
    "- Learn code elements to run a Spiking Neural Networks (SNNs) by using PyNN on the SpiNNaker neuromorphic system.\n"
   ]
  },
  {
   "cell_type": "markdown",
   "metadata": {},
   "source": [
    "## knowledge assumptions: \n",
    "\n",
    "- basis of spiking neural network theory (https://neuronaldynamics.epfl.ch/online/index.html)\n",
    "- familiarity with physical quatities related to electric circuits (e.g., voltages, conductances, currents, capacitances, etc)\n",
    "- basic python coding (numpy, work with dictionaries, some matplotlib tools, etc)"
   ]
  },
  {
   "cell_type": "markdown",
   "metadata": {},
   "source": [
    "# Content:\n",
    "\n",
    "## network building and running [block1, 9:15-9:50, than break]\n",
    "1. neurons\n",
    "    - cell types\n",
    "    - populations\n",
    "    - recording variables\n",
    "    \n",
    "    \n",
    "2. connections\n",
    "    - synapse types\n",
    "    - connections types\n",
    "    - projections\n",
    "\n",
    "\n",
    "3. simulation managing\n",
    "    - computational settings\n",
    "    - save and load outputs\n",
    "    - visualization tools\n",
    "\n",
    "## network examples [block2, 10:00 - 10:50, than break]\n",
    "- [1D small network](eg_1D_small-network.ipynb)\n",
    "- [1D decaying network](eg_1D_decaying-network.ipynb)\n",
    "- [1D persistent network](eg_1D_persistent-network.ipynb)\n",
    "- [1D diverging network](eg_1D_diverging-network.ipynb)\n",
    "- [1D small-world network](eg_1D_small-world-network.ipynb)\n",
    "- [1D testing cell models network](eg_1D_testing-cell-models-network.ipynb)\n",
    "- [1D testing STDP model network](eg_1D_testing-STDP-model-network.ipynb)\n",
    "\n",
    "## learn-with-exercises [block3, 11:00 - 12:00, than solutions, resume and link with the afternoon]\n",
    "\n",
    "- [ex_network_A](ex_network_A.ipynb), i.e., a 1D network of 100 cells that receives a sequence of random thalamic inputs\n",
    "- [ex_network_B](ex_network_B.ipynb), i.e., a 2D network of 900 excitatory cells that receives a sequence of 2D geometric thalamic inputs\n",
    "- read the material and playing with examples\n",
    "- resources:\n",
    "    - SpiNNaker Jupyter Lab login at https://spinn-20.cs.man.ac.uk/hub/home\n",
    "    - clone or pull the repository https://github.com/albertoarturovergani/CNT-2021\n",
    "    - go to SpiNNaker directory\n",
    "\n",
    "\n",
    "## topics for an advanced class\n",
    "- bio-realistic neural network (i.e, the model)\n",
    "- large scale computation (i.e., the size)\n",
    "- model replication (i.e., reproduce results from paper)\n",
    "- parameters explorations (i.e., optimization algs)\n",
    "- running parallel simulations (already managed by SpiNNaker, but for NEST or Neuron see http://neuralensemble.org/docs/PyNN/parallel.html) "
   ]
  },
  {
   "cell_type": "markdown",
   "metadata": {},
   "source": [
    "## expected take-home-points:\n",
    "\n",
    "0. import the simulator\n",
    "1. setup the simulator\n",
    "2. decide the cell types \n",
    "3. design the populations\n",
    "4. define the synapse types\n",
    "5. select the connection algorithm\n",
    "6. make the projections \n",
    "7. idealize the stimulus\n",
    "8. run the simulation\n",
    "9. save the results\n",
    "10. recover the results\n",
    "11. postprocessing (visualization or statistics, etc)\n",
    "12. close the simulations"
   ]
  },
  {
   "cell_type": "markdown",
   "metadata": {},
   "source": [
    "# step0: import the simulator"
   ]
  },
  {
   "cell_type": "code",
   "execution_count": 1,
   "metadata": {},
   "outputs": [
    {
     "name": "stdout",
     "output_type": "stream",
     "text": [
      "Detected PyNN version 0.9.4 and Neo version 0.6.1\n"
     ]
    }
   ],
   "source": [
    "import pyNN.spiNNaker as sim # set accordly also the kernel in the notebook\n",
    "from pyNN import space \n",
    "\n",
    "import numpy as np\n",
    "import matplotlib.pyplot as plt\n",
    "\n",
    "# note that if you use nest, import pyNN.nest as sim (see http://neuralensemble.org/docs/PyNN/backends.html)"
   ]
  },
  {
   "cell_type": "code",
   "execution_count": 2,
   "metadata": {},
   "outputs": [],
   "source": [
    "# sim + tab key to explore PyNN features (classes, modules, functions, instances)\n",
    "\n",
    "# have a try..."
   ]
  },
  {
   "cell_type": "code",
   "execution_count": null,
   "metadata": {},
   "outputs": [],
   "source": []
  },
  {
   "cell_type": "markdown",
   "metadata": {},
   "source": [
    "# step1: setup the simulator"
   ]
  },
  {
   "cell_type": "code",
   "execution_count": 3,
   "metadata": {},
   "outputs": [
    {
     "name": "stderr",
     "output_type": "stream",
     "text": [
      "2021-04-23 08:14:38 INFO: Read cfg files: /home/spinnaker/sPyNNaker/lib/python3.6/site-packages/spinn_front_end_common/interface/spinnaker.cfg, /home/spinnaker/sPyNNaker/lib/python3.6/site-packages/spynnaker/pyNN/spynnaker.cfg, /home/spinnaker/.spynnaker.cfg\n",
      "2021-04-23 08:14:38 INFO: Will search these locations for binaries: /home/spinnaker/sPyNNaker/lib/python3.6/site-packages/spinn_front_end_common/common_model_binaries : /home/spinnaker/sPyNNaker/lib/python3.6/site-packages/spynnaker/pyNN/model_binaries\n",
      "2021-04-23 08:14:38 WARNING: /home/spinnaker/CNT-2021/SpiNNaker/reports has 5 old reports that have not been closed\n",
      "2021-04-23 08:14:38 WARNING: /home/spinnaker/CNT-2021/SpiNNaker/application_generated_data_files has 6 old reports that have not been closed\n",
      "2021-04-23 08:14:38 INFO: Setting time scale factor to 1.\n",
      "2021-04-23 08:14:38 INFO: Setting machine time step to 1000 micro-seconds.\n"
     ]
    },
    {
     "name": "stdout",
     "output_type": "stream",
     "text": [
      "['/home/spinnaker/sPyNNaker/lib/python3.6/site-packages/spinn_front_end_common/interface/spinnaker.cfg', '/home/spinnaker/sPyNNaker/lib/python3.6/site-packages/spynnaker/pyNN/spynnaker.cfg', '/home/spinnaker/.spynnaker.cfg']\n"
     ]
    }
   ],
   "source": [
    "sim.setup(\n",
    "    timestep=1, # [ms]\n",
    "    min_delay=1, # [ms]\n",
    "    max_delay=100) # [ms] # not that the max_delay supported by SpiNNaker is timestep * 144\n",
    "\n",
    "simtime = 200 #ms"
   ]
  },
  {
   "cell_type": "markdown",
   "metadata": {},
   "source": [
    "# step2: the cell types "
   ]
  },
  {
   "cell_type": "markdown",
   "metadata": {},
   "source": [
    "- cell models and source models\n",
    "- point neuron (mono-compartment model)\n",
    "- http://neuralensemble.org/docs/PyNN/standardmodels.html"
   ]
  },
  {
   "cell_type": "code",
   "execution_count": 4,
   "metadata": {},
   "outputs": [
    {
     "data": {
      "text/plain": [
       "['AbstractPyNNModel',\n",
       " 'IF_cond_exp',\n",
       " 'IF_curr_exp',\n",
       " 'IF_curr_alpha',\n",
       " 'Izhikevich',\n",
       " 'SpikeSourceArray',\n",
       " 'SpikeSourcePoisson']"
      ]
     },
     "execution_count": 4,
     "metadata": {},
     "output_type": "execute_result"
    }
   ],
   "source": [
    "sim.list_standard_models()"
   ]
  },
  {
   "cell_type": "code",
   "execution_count": 5,
   "metadata": {},
   "outputs": [
    {
     "data": {
      "text/plain": [
       "spynnaker.pyNN.models.neuron.builds.izk_cond_exp_base.IzkCondExpBase"
      ]
     },
     "execution_count": 5,
     "metadata": {},
     "output_type": "execute_result"
    }
   ],
   "source": [
    "# otherwise see sim.extra_models\n",
    "\n",
    "sim.extra_models\n",
    "sim.extra_models.IF_curr_dual_exp\n",
    "sim.extra_models.IF_curr_exp_sEMD\n",
    "sim.extra_models.IFCondExpStoc\n",
    "sim.extra_models.IFCurDelta\n",
    "sim.extra_models.IFCurrExpCa2Adaptive\n",
    "sim.extra_models.Izhikevich_cond"
   ]
  },
  {
   "cell_type": "markdown",
   "metadata": {},
   "source": [
    "- example of the different cell spike traces in [eg_1D_testing-cell-models notebook](eg_1D_testing-cell-models.ipynb)"
   ]
  },
  {
   "cell_type": "markdown",
   "metadata": {},
   "source": [
    "# example with sim.IF_cond_exp \n",
    "\n",
    "- Leaky integrate and fire model with fixed threshold and decaying-exponential post-synaptic conductance.\n",
    "- explicit model https://arxiv.org/pdf/2003.13365.pdf"
   ]
  },
  {
   "cell_type": "code",
   "execution_count": 6,
   "metadata": {},
   "outputs": [
    {
     "data": {
      "text/plain": [
       "dict_keys(['tau_m', 'cm', 'v_rest', 'v_reset', 'v_thresh', 'tau_syn_E', 'tau_syn_I', 'tau_refrac', 'i_offset', 'e_rev_E', 'e_rev_I'])"
      ]
     },
     "execution_count": 6,
     "metadata": {},
     "output_type": "execute_result"
    }
   ],
   "source": [
    "# parameter names\n",
    "\n",
    "sim.IF_cond_exp.get_parameter_names()"
   ]
  },
  {
   "cell_type": "code",
   "execution_count": 7,
   "metadata": {},
   "outputs": [
    {
     "data": {
      "text/plain": [
       "{'tau_m': 20.0,\n",
       " 'cm': 1.0,\n",
       " 'v_rest': -65.0,\n",
       " 'v_reset': -65.0,\n",
       " 'v_thresh': -50.0,\n",
       " 'tau_syn_E': 5.0,\n",
       " 'tau_syn_I': 5.0,\n",
       " 'tau_refrac': 0.1,\n",
       " 'i_offset': 0.0,\n",
       " 'e_rev_E': 0.0,\n",
       " 'e_rev_I': -70.0}"
      ]
     },
     "execution_count": 7,
     "metadata": {},
     "output_type": "execute_result"
    }
   ],
   "source": [
    "# default parameters\n",
    "\n",
    "standard_pars = sim.IF_cond_exp.default_parameters\n",
    "\n",
    "standard_pars\n",
    "\n",
    "# see parameters of the models http://neuralensemble.org/docs/PyNN/standardmodels.html"
   ]
  },
  {
   "cell_type": "code",
   "execution_count": 8,
   "metadata": {},
   "outputs": [],
   "source": [
    "# define your own pars, dictonary of testing parameters\n",
    "\n",
    "testing_pars = {'tau_m': 20, \n",
    "                'cm': 1.0, \n",
    "                'v_rest': -65.0, \n",
    "                'v_reset': -70.0, \n",
    "                'v_thresh': -48.0, \n",
    "                'tau_syn_E': 5.0, \n",
    "                'tau_syn_I': 5.0, \n",
    "                'tau_refrac': 2, \n",
    "                'i_offset': 0.0, \n",
    "                'e_rev_E': 0.0, \n",
    "                'e_rev_I': -70.0}"
   ]
  },
  {
   "cell_type": "code",
   "execution_count": 9,
   "metadata": {},
   "outputs": [
    {
     "data": {
      "text/plain": [
       "{'v': -65.0, 'isyn_exc': 0.0, 'isyn_inh': 0.0}"
      ]
     },
     "execution_count": 9,
     "metadata": {},
     "output_type": "execute_result"
    }
   ],
   "source": [
    "# initial values\n",
    "\n",
    "sim.IF_cond_exp().default_initial_values"
   ]
  },
  {
   "cell_type": "markdown",
   "metadata": {},
   "source": [
    "# step3: making cell populations\n"
   ]
  },
  {
   "cell_type": "code",
   "execution_count": 10,
   "metadata": {},
   "outputs": [],
   "source": [
    "# define dictionaries\n",
    "\n",
    "pops = {}\n",
    "n_cells = {}\n",
    "neuron_Model = {}\n",
    "neuron_ModelPars = {}\n",
    "initial_Values = {}"
   ]
  },
  {
   "cell_type": "code",
   "execution_count": 11,
   "metadata": {},
   "outputs": [
    {
     "data": {
      "text/plain": [
       "{'Exc': <spynnaker8.models.populations.population.Population at 0x7f18008dca08>}"
      ]
     },
     "execution_count": 11,
     "metadata": {},
     "output_type": "execute_result"
    }
   ],
   "source": [
    "# define a popolation of excitatory neurons in 1D\n",
    "\n",
    "popName = 'Exc'\n",
    "n_cells[popName] = 100\n",
    "neuron_Model[popName] = sim.IF_cond_exp\n",
    "neuron_ModelPars[popName] = sim.IF_cond_exp.default_parameters # or standard_pars or testing_pars\n",
    "initial_Values[popName] = sim.IF_cond_exp.default_initial_values\n",
    "\n",
    "pops[popName] = sim.Population(n_cells[popName], \n",
    "                               neuron_Model[popName],\n",
    "                               neuron_ModelPars[popName],\n",
    "                               structure = space.Line(dx=1.0, x0=0.0, y=0.0, z=0.0), \n",
    "                               initial_values=None, # e.g, initial_values={'v': sim.RandomDistribution('uniform', (-70.0, -60.0))},\n",
    "                               label = popName)\n",
    "\n",
    "pops[popName].record(['spikes','v','gsyn_exc','gsyn_inh'])   \n",
    "\n",
    "pops"
   ]
  },
  {
   "cell_type": "code",
   "execution_count": 12,
   "metadata": {},
   "outputs": [
    {
     "data": {
      "text/plain": [
       "{'Exc': <spynnaker8.models.populations.population.Population at 0x7f18008dca08>,\n",
       " 'Inh': <spynnaker8.models.populations.population.Population at 0x7f18008dcad8>}"
      ]
     },
     "execution_count": 12,
     "metadata": {},
     "output_type": "execute_result"
    }
   ],
   "source": [
    "# define a popolation of inhibitory neurons in 1D\n",
    "\n",
    "popName = 'Inh'\n",
    "n_cells[popName] = 100\n",
    "neuron_Model[popName] = sim.IF_cond_exp\n",
    "neuron_ModelPars[popName] = sim.IF_cond_exp.default_parameters # or standard_pars or testing_pars\n",
    "initial_Values[popName] = sim.IF_cond_exp.default_initial_values\n",
    "\n",
    "pops[popName] = sim.Population(n_cells[popName], \n",
    "                              neuron_Model[popName],\n",
    "                              neuron_ModelPars[popName],\n",
    "                              structure = space.Line(dx=1.0, x0=0.0, y=0.0, z=0.0),\n",
    "                              initial_values=None, # e.g, initial_values={'v': sim.RandomDistribution('uniform', (-70.0, -60.0))},\n",
    "                              label = popName)\n",
    "\n",
    "pops[popName].record(['spikes','v','gsyn_exc','gsyn_inh'])\n",
    "\n",
    "pops"
   ]
  },
  {
   "cell_type": "code",
   "execution_count": 13,
   "metadata": {},
   "outputs": [],
   "source": [
    "# eventually defined random subsets of cells from the the population \n",
    "\n",
    "pops['A'] = pops[popName].sample(750) \n",
    "pops['B'] = pops[popName].sample(250) \n",
    "\n",
    "pops['A'].record(['spikes','v','gsyn_exc','gsyn_inh'])\n",
    "pops['B'].record(['spikes','v','gsyn_exc','gsyn_inh'])"
   ]
  },
  {
   "cell_type": "code",
   "execution_count": 14,
   "metadata": {},
   "outputs": [
    {
     "data": {
      "text/plain": [
       "array([[ 0.79090446],\n",
       "       [-0.35930667],\n",
       "       [-1.43468878]])"
      ]
     },
     "execution_count": 14,
     "metadata": {},
     "output_type": "execute_result"
    }
   ],
   "source": [
    "# some info to define network with 2D or 3D structures\n",
    "\n",
    "structure = {}\n",
    "\n",
    "structure['1D'] = space.Line(\n",
    "                              dx=1.0, \n",
    "                              x0=0.0, \n",
    "                              y=0.0, \n",
    "                              z=0.0),\n",
    "\n",
    "structure['2D'] = space.Grid2D(\n",
    "                                aspect_ratio=1.0,\n",
    "                                dx=1.0,\n",
    "                                dy=1.0,\n",
    "                                x0=0.0,\n",
    "                                y0=0.0,\n",
    "                                z=0,\n",
    "                                fill_order='sequential', #'random'\n",
    "                                rng=None,\n",
    "                                )\n",
    "\n",
    "structure['3D'] = space.Grid3D(\n",
    "                                aspect_ratioXY=1.0,\n",
    "                                aspect_ratioXZ=1.0,\n",
    "                                dx=1.0,\n",
    "                                dy=1.0,\n",
    "                                dz=1.0,\n",
    "                                x0=0.0,\n",
    "                                y0=0.0,\n",
    "                                z0=0,\n",
    "                                fill_order='sequential', # 'random'\n",
    "                                rng=None,\n",
    "                                )\n",
    "\n",
    "structure['Sphere'] = space.RandomStructure(\n",
    "                                            boundary=space.Sphere(radius=100), \n",
    "                                            origin=(0.0, 0.0, 0.0), \n",
    "                                            rng=None)\n",
    "\n",
    "\n",
    "structure['Cuboid'] = space.RandomStructure(\n",
    "                                            boundary=space.Cuboid(\n",
    "                                                                width=10, \n",
    "                                                                height=10, \n",
    "                                                                depth=10), \n",
    "                                                                origin=(0.0, 0.0, 0.0), \n",
    "                                                                rng=None)\n",
    "\n",
    "\n",
    "# to explore the actual position of the cells:\n",
    "\n",
    "structure['Cuboid'].generate_positions(1)\n"
   ]
  },
  {
   "cell_type": "code",
   "execution_count": 15,
   "metadata": {},
   "outputs": [
    {
     "data": {
      "text/plain": [
       "{'v': [-65.0, -65.0, -65.0, -65.0, -65.0, -65.0, -65.0, -65.0, -65.0, -65.0, -65.0, -65.0, -65.0, -65.0, -65.0, -65.0, -65.0, -65.0, -65.0, -65.0, -65.0, -65.0, -65.0, -65.0, -65.0, -65.0, -65.0, -65.0, -65.0, -65.0, -65.0, -65.0, -65.0, -65.0, -65.0, -65.0, -65.0, -65.0, -65.0, -65.0, -65.0, -65.0, -65.0, -65.0, -65.0, -65.0, -65.0, -65.0, -65.0, -65.0, -65.0, -65.0, -65.0, -65.0, -65.0, -65.0, -65.0, -65.0, -65.0, -65.0, -65.0, -65.0, -65.0, -65.0, -65.0, -65.0, -65.0, -65.0, -65.0, -65.0, -65.0, -65.0, -65.0, -65.0, -65.0, -65.0, -65.0, -65.0, -65.0, -65.0, -65.0, -65.0, -65.0, -65.0, -65.0, -65.0, -65.0, -65.0, -65.0, -65.0, -65.0, -65.0, -65.0, -65.0, -65.0, -65.0, -65.0, -65.0, -65.0, -65.0],\n",
       " 'isyn_exc': [0.0, 0.0, 0.0, 0.0, 0.0, 0.0, 0.0, 0.0, 0.0, 0.0, 0.0, 0.0, 0.0, 0.0, 0.0, 0.0, 0.0, 0.0, 0.0, 0.0, 0.0, 0.0, 0.0, 0.0, 0.0, 0.0, 0.0, 0.0, 0.0, 0.0, 0.0, 0.0, 0.0, 0.0, 0.0, 0.0, 0.0, 0.0, 0.0, 0.0, 0.0, 0.0, 0.0, 0.0, 0.0, 0.0, 0.0, 0.0, 0.0, 0.0, 0.0, 0.0, 0.0, 0.0, 0.0, 0.0, 0.0, 0.0, 0.0, 0.0, 0.0, 0.0, 0.0, 0.0, 0.0, 0.0, 0.0, 0.0, 0.0, 0.0, 0.0, 0.0, 0.0, 0.0, 0.0, 0.0, 0.0, 0.0, 0.0, 0.0, 0.0, 0.0, 0.0, 0.0, 0.0, 0.0, 0.0, 0.0, 0.0, 0.0, 0.0, 0.0, 0.0, 0.0, 0.0, 0.0, 0.0, 0.0, 0.0, 0.0],\n",
       " 'isyn_inh': [0.0, 0.0, 0.0, 0.0, 0.0, 0.0, 0.0, 0.0, 0.0, 0.0, 0.0, 0.0, 0.0, 0.0, 0.0, 0.0, 0.0, 0.0, 0.0, 0.0, 0.0, 0.0, 0.0, 0.0, 0.0, 0.0, 0.0, 0.0, 0.0, 0.0, 0.0, 0.0, 0.0, 0.0, 0.0, 0.0, 0.0, 0.0, 0.0, 0.0, 0.0, 0.0, 0.0, 0.0, 0.0, 0.0, 0.0, 0.0, 0.0, 0.0, 0.0, 0.0, 0.0, 0.0, 0.0, 0.0, 0.0, 0.0, 0.0, 0.0, 0.0, 0.0, 0.0, 0.0, 0.0, 0.0, 0.0, 0.0, 0.0, 0.0, 0.0, 0.0, 0.0, 0.0, 0.0, 0.0, 0.0, 0.0, 0.0, 0.0, 0.0, 0.0, 0.0, 0.0, 0.0, 0.0, 0.0, 0.0, 0.0, 0.0, 0.0, 0.0, 0.0, 0.0, 0.0, 0.0, 0.0, 0.0, 0.0, 0.0]}"
      ]
     },
     "execution_count": 15,
     "metadata": {},
     "output_type": "execute_result"
    }
   ],
   "source": [
    "# get initial values\n",
    "\n",
    "pops['Exc'].get_initial_values()"
   ]
  },
  {
   "cell_type": "code",
   "execution_count": 16,
   "metadata": {},
   "outputs": [
    {
     "data": {
      "text/plain": [
       "[-65.0, -65.0, -65.0, -65.0, -65.0, -65.0, -65.0, -65.0, -65.0, -65.0, -65.0, -65.0, -65.0, -65.0, -65.0, -65.0, -65.0, -65.0, -65.0, -65.0, -65.0, -65.0, -65.0, -65.0, -65.0, -65.0, -65.0, -65.0, -65.0, -65.0, -65.0, -65.0, -65.0, -65.0, -65.0, -65.0, -65.0, -65.0, -65.0, -65.0, -65.0, -65.0, -65.0, -65.0, -65.0, -65.0, -65.0, -65.0, -65.0, -65.0, -65.0, -65.0, -65.0, -65.0, -65.0, -65.0, -65.0, -65.0, -65.0, -65.0, -65.0, -65.0, -65.0, -65.0, -65.0, -65.0, -65.0, -65.0, -65.0, -65.0, -65.0, -65.0, -65.0, -65.0, -65.0, -65.0, -65.0, -65.0, -65.0, -65.0, -65.0, -65.0, -65.0, -65.0, -65.0, -65.0, -65.0, -65.0, -65.0, -65.0, -65.0, -65.0, -65.0, -65.0, -65.0, -65.0, -65.0, -65.0, -65.0, -65.0]"
      ]
     },
     "execution_count": 16,
     "metadata": {},
     "output_type": "execute_result"
    }
   ],
   "source": [
    "pops['Exc'].get_initial_value('v') # voltage"
   ]
  },
  {
   "cell_type": "code",
   "execution_count": 17,
   "metadata": {},
   "outputs": [
    {
     "data": {
      "text/plain": [
       "[0.0, 0.0, 0.0, 0.0, 0.0, 0.0, 0.0, 0.0, 0.0, 0.0, 0.0, 0.0, 0.0, 0.0, 0.0, 0.0, 0.0, 0.0, 0.0, 0.0, 0.0, 0.0, 0.0, 0.0, 0.0, 0.0, 0.0, 0.0, 0.0, 0.0, 0.0, 0.0, 0.0, 0.0, 0.0, 0.0, 0.0, 0.0, 0.0, 0.0, 0.0, 0.0, 0.0, 0.0, 0.0, 0.0, 0.0, 0.0, 0.0, 0.0, 0.0, 0.0, 0.0, 0.0, 0.0, 0.0, 0.0, 0.0, 0.0, 0.0, 0.0, 0.0, 0.0, 0.0, 0.0, 0.0, 0.0, 0.0, 0.0, 0.0, 0.0, 0.0, 0.0, 0.0, 0.0, 0.0, 0.0, 0.0, 0.0, 0.0, 0.0, 0.0, 0.0, 0.0, 0.0, 0.0, 0.0, 0.0, 0.0, 0.0, 0.0, 0.0, 0.0, 0.0, 0.0, 0.0, 0.0, 0.0, 0.0, 0.0]"
      ]
     },
     "execution_count": 17,
     "metadata": {},
     "output_type": "execute_result"
    }
   ],
   "source": [
    "pops['Exc'].get_initial_value('isyn_exc') # excitatory conductance"
   ]
  },
  {
   "cell_type": "code",
   "execution_count": 18,
   "metadata": {},
   "outputs": [
    {
     "data": {
      "text/plain": [
       "[0.0, 0.0, 0.0, 0.0, 0.0, 0.0, 0.0, 0.0, 0.0, 0.0, 0.0, 0.0, 0.0, 0.0, 0.0, 0.0, 0.0, 0.0, 0.0, 0.0, 0.0, 0.0, 0.0, 0.0, 0.0, 0.0, 0.0, 0.0, 0.0, 0.0, 0.0, 0.0, 0.0, 0.0, 0.0, 0.0, 0.0, 0.0, 0.0, 0.0, 0.0, 0.0, 0.0, 0.0, 0.0, 0.0, 0.0, 0.0, 0.0, 0.0, 0.0, 0.0, 0.0, 0.0, 0.0, 0.0, 0.0, 0.0, 0.0, 0.0, 0.0, 0.0, 0.0, 0.0, 0.0, 0.0, 0.0, 0.0, 0.0, 0.0, 0.0, 0.0, 0.0, 0.0, 0.0, 0.0, 0.0, 0.0, 0.0, 0.0, 0.0, 0.0, 0.0, 0.0, 0.0, 0.0, 0.0, 0.0, 0.0, 0.0, 0.0, 0.0, 0.0, 0.0, 0.0, 0.0, 0.0, 0.0, 0.0, 0.0]"
      ]
     },
     "execution_count": 18,
     "metadata": {},
     "output_type": "execute_result"
    }
   ],
   "source": [
    "pops['Exc'].get_initial_value('isyn_inh') # inhibitory conductance"
   ]
  },
  {
   "cell_type": "code",
   "execution_count": 19,
   "metadata": {},
   "outputs": [
    {
     "data": {
      "text/plain": [
       "[-69.30700726674367, -61.28835338866944, -62.42455490271199, -63.415599075500104, -64.24153762735342, -65.53762473809466, -63.95739548177811, -67.85664016710726, -63.01565018992521, -67.00605745492159, -64.8342272050065, -69.1524576969959, -69.49270123738872, -65.48884133431726, -64.27199117064717, -67.2915840250054, -65.88318172227892, -65.47621463639071, -62.305876575626826, -61.37702211752393, -62.16548641920428, -64.27248232293758, -65.27839940387663, -63.18334976197571, -66.35245397561705, -66.17781472443629, -62.07140473210072, -63.00773982636714, -63.170016175829296, -66.3986840157708, -68.52651390484897, -64.48902039934995, -64.94031087836463, -67.49214155455427, -66.02747404483044, -65.63578396352055, -62.0718761351725, -67.85864131569295, -61.886709795340245, -62.28777207303587, -67.48525552066512, -62.02617699642446, -62.74797874920843, -63.68510222240001, -61.3341171244022, -66.41880003040325, -69.37745038029307, -64.60888118664475, -63.18290261581167, -64.71187297712306, -63.39775094405537, -69.5896307902932, -61.25403240048664, -63.48272658524963, -65.30515401289671, -60.87962205784804, -65.79251491896098, -66.49767002514164, -64.21678968645716, -65.23635314021091, -66.50198162378851, -66.71764741597784, -62.90534906010758, -67.20318930989039, -63.29588547200111, -62.310964904741375, -63.43010624045259, -67.8590011157498, -64.72648105327113, -66.9266618935163, -63.26850736639705, -66.52498766155743, -65.86496797560554, -62.274249826535424, -65.03267972504149, -64.08014713473928, -66.52425041345197, -65.2619252658926, -63.11498131170733, -65.35709230217861, -63.16947114073057, -62.732983724230664, -64.28003440913197, -69.99381402350319, -65.01341231878334, -65.99450280167476, -62.35124682130459, -63.42749801392426, -63.95556161550158, -62.19466095772917, -63.19306513219108, -64.08681262774695, -62.79916860905026, -65.14982593909879, -66.00584970541529, -66.38342456545062, -64.9816328155592, -64.68855496992238, -65.97199658089697, -67.43946293493076]"
      ]
     },
     "execution_count": 19,
     "metadata": {},
     "output_type": "execute_result"
    }
   ],
   "source": [
    "# change initial values, e.g., voltage\n",
    "\n",
    "pops['Exc'].initialize(v = sim.RandomDistribution('normal', (-65.0, 2.0)))\n",
    "pops['Exc'].get_initial_value('v') # voltage"
   ]
  },
  {
   "cell_type": "code",
   "execution_count": 20,
   "metadata": {},
   "outputs": [
    {
     "data": {
      "application/vnd.jupyter.widget-view+json": {
       "model_id": "e093d76397d644589a024fbd45927166",
       "version_major": 2,
       "version_minor": 0
      },
      "text/plain": [
       "Canvas(toolbar=Toolbar(toolitems=[('Home', 'Reset original view', 'home', 'home'), ('Back', 'Back to previous …"
      ]
     },
     "metadata": {},
     "output_type": "display_data"
    },
    {
     "data": {
      "text/plain": [
       "Text(0.5, 1.0, 'discrete PDF of voltage [mV]')"
      ]
     },
     "execution_count": 20,
     "metadata": {},
     "output_type": "execute_result"
    }
   ],
   "source": [
    "# visual check of the custom votlage initial distribution\n",
    "\n",
    "fig, axes = plt.subplots(1,2, figsize=(7,5))\n",
    "axes_list = fig.axes\n",
    "\n",
    "axes_list[0].hist(np.asarray(pops['Exc'].get_initial_value('v')),\n",
    "                  bins = 50,\n",
    "                  cumulative = True)\n",
    "\n",
    "axes_list[0].set_title('CDF of voltage [mV]')\n",
    "\n",
    "axes_list[1].hist(np.asarray(pops['Exc'].get_initial_value('v')),\n",
    "                  density = True,\n",
    "                  bins = 50,\n",
    "                  cumulative = False)\n",
    "\n",
    "\n",
    "axes_list[1].set_title('discrete PDF of voltage [mV]')"
   ]
  },
  {
   "cell_type": "markdown",
   "metadata": {},
   "source": [
    "# step4: synapses types (to use with the sim.Projection costructor)"
   ]
  },
  {
   "cell_type": "code",
   "execution_count": 21,
   "metadata": {},
   "outputs": [],
   "source": [
    "# static synapse weight and delay\n",
    "\n",
    "weights = np.random.normal(loc=0.04, scale=0.01)\n",
    "static_synapse = sim.StaticSynapse(weight=weights, delay=0.5) # weights in [uS] and delay in [ms]\n",
    "\n",
    "# note1: if you use a model with current based synapses, the weights are in nA, otherewise are uS for conductance based synapses models "
   ]
  },
  {
   "cell_type": "code",
   "execution_count": 22,
   "metadata": {},
   "outputs": [],
   "source": [
    "# long term / spike-timinig-dependend plasticity (STDP), i.e. learning\n",
    "\n",
    "stdp_synapse = sim.STDPMechanism(\n",
    "                                 timing_dependence=sim.SpikePairRule(tau_plus=20.0, tau_minus=20.0, A_plus=0.1, A_minus=0.1),\n",
    "                                 weight_dependence=sim.AdditiveWeightDependence(w_min=0.0, w_max=1.0),\n",
    "                                 voltage_dependence=None,\n",
    "                                 dendritic_delay_fraction=1.0,\n",
    "                                 weight = 0.05, # initial value\n",
    "                                 delay = \"0.5 + 0.01*d\", # distance based delay min_delay + f(distance)\n",
    "                                 )\n",
    "# see for details http://neuralensemble.org/docs/PyNN/connections.html#synapse-types"
   ]
  },
  {
   "cell_type": "markdown",
   "metadata": {},
   "source": [
    "- have a look to [1D testing STDP model network notebook](eg_1D_testing-STDP-model-network.ipynb)"
   ]
  },
  {
   "cell_type": "code",
   "execution_count": 23,
   "metadata": {},
   "outputs": [],
   "source": [
    "# other learning rules\n",
    "\n",
    "# sim.extra_models.SpikeNearestPair\n",
    "# sim.extra_models.PfisterSpikeTripletRule\n",
    "# sim.extra_models.Vogels2011Rule\n",
    "# sim.extra_models.RecurrentRule\n",
    "\n",
    "# info at http://spinnakermanchester.github.io/spynnaker/5.0.0/SPyNNakerModelsAndLimitations.html"
   ]
  },
  {
   "cell_type": "markdown",
   "metadata": {},
   "source": [
    "# step5: connectors types (to use with the sim.Projection costructor)\n"
   ]
  },
  {
   "cell_type": "code",
   "execution_count": 24,
   "metadata": {},
   "outputs": [],
   "source": [
    "# all to all connections\n",
    "\n",
    "connector = sim.AllToAllConnector(allow_self_connections=True) # autapses=True"
   ]
  },
  {
   "cell_type": "code",
   "execution_count": 25,
   "metadata": {},
   "outputs": [],
   "source": [
    "# all to all connections with probability\n",
    "\n",
    "prob = 0.25 # point prob\n",
    "prob = np.random.normal(loc=0.5, scale=0.1) # distribution of prob\n",
    "connector = sim.FixedProbabilityConnector(p_connect=prob)"
   ]
  },
  {
   "cell_type": "code",
   "execution_count": 26,
   "metadata": {},
   "outputs": [],
   "source": [
    "# distance based probability connections\n",
    "\n",
    "d_rule = \"exp(-d)\" # or d_expression = \"d<5\"\n",
    "connector = sim.DistanceDependentProbabilityConnector(d_expression=d_rule)"
   ]
  },
  {
   "cell_type": "code",
   "execution_count": 27,
   "metadata": {},
   "outputs": [],
   "source": [
    "# one to one connections\n",
    "\n",
    "connector = sim.OneToOneConnector()"
   ]
  },
  {
   "cell_type": "code",
   "execution_count": 28,
   "metadata": {},
   "outputs": [],
   "source": [
    "# fixed number of pre synptic neurons randomly taken link to all pre syn neurons\n",
    "\n",
    "connector = sim.FixedNumberPreConnector(n = 50, allow_self_connections=True)"
   ]
  },
  {
   "cell_type": "code",
   "execution_count": 29,
   "metadata": {},
   "outputs": [],
   "source": [
    "# fixed number of post synptic neurons randomly taken link to all post syn neurons\n",
    "\n",
    "connector = sim.FixedNumberPostConnector(n = 50, allow_self_connections=True)"
   ]
  },
  {
   "cell_type": "code",
   "execution_count": 30,
   "metadata": {},
   "outputs": [],
   "source": [
    "# small-world connections\n",
    "\n",
    "do_run = False\n",
    "if do_run:\n",
    "    connector = sim.SmallWorldConnector(\n",
    "                                    degree, # the region length where nodes will be connected locally.\n",
    "                                    rewiring, # the probability of rewiring each edge.\n",
    "                                    allow_self_connections=True,\n",
    "                                    safe=True,\n",
    "                                    verbose=False,\n",
    "                                    n_connections=None, # if specified, the number of efferent synaptic connections per neuron.\n",
    "                                    )\n"
   ]
  },
  {
   "cell_type": "markdown",
   "metadata": {},
   "source": [
    "see example [1D small-world network notebook](SpiNNaker/eg_1D_small-world-network)\n"
   ]
  },
  {
   "cell_type": "code",
   "execution_count": 31,
   "metadata": {},
   "outputs": [],
   "source": [
    "# CSA Connection Set Algebra costructor ( Djurfeldt 2012 https://pubmed.ncbi.nlm.nih.gov/22437992/)\n",
    "\n",
    "do_run = False\n",
    "if do_run:\n",
    "    #cset = a connection set object\n",
    "    connector = CSAConnector(cset, safe=True, callback=None)\n"
   ]
  },
  {
   "cell_type": "code",
   "execution_count": 32,
   "metadata": {},
   "outputs": [],
   "source": [
    "# from file to connector, i.e., [i, j, weight, delay]\n",
    "\n",
    "do_run = False\n",
    "if do_run:\n",
    "    file = 'yourFile.txt'\n",
    "    connector = sim.FromFileConnector(\n",
    "                                    file,\n",
    "                                    distributed=False,\n",
    "                                    safe=True,\n",
    "                                    callback=None,\n",
    "                                    verbose=False,\n",
    "                                )"
   ]
  },
  {
   "cell_type": "code",
   "execution_count": 33,
   "metadata": {},
   "outputs": [],
   "source": [
    "# list based connections, i.e., [i, j, weight, delay]\n",
    "\n",
    "# one-to-one like list\n",
    "#            [i, j,  w,   d]\n",
    "givenList = [[0, 0, 0.08, 1],\n",
    "             [1, 1, 0.08, 1],\n",
    "             [2, 2, 0.08, 1],\n",
    "             [3, 3, 0.08, 1],\n",
    "             [4, 4, 0.08, 1]]\n",
    "             #...\n",
    "\n",
    "connector = sim.FromListConnector(conn_list=givenList)\n",
    "\n",
    "# powerful tool to draw your own connectivity"
   ]
  },
  {
   "cell_type": "markdown",
   "metadata": {},
   "source": [
    "## Example of a function to compute a list for the FromListConnector"
   ]
  },
  {
   "cell_type": "markdown",
   "metadata": {},
   "source": [
    "## e.g., list of Distance based Probability Connections with Distance based Delay (DPCDD)"
   ]
  },
  {
   "cell_type": "code",
   "execution_count": 34,
   "metadata": {},
   "outputs": [],
   "source": [
    "def compute_DPCDD(n_cells_i, n_cells_j, weights, d_thresh, p_thresh, width): \n",
    "    v_c = 0.35 #m/s\n",
    "    d0 = 1 #ms\n",
    "    scale = 1\n",
    "    \n",
    "    connections = {}\n",
    "    probabilities = {}\n",
    "    distances = {}\n",
    "\n",
    "    connections = []\n",
    "    probabilities = []\n",
    "    distances = []\n",
    "    for pre in range(n_cells_i):\n",
    "        for post in range(n_cells_j):\n",
    "            d_ij = np.sqrt((pre - post)**2)\n",
    "            delay = d0 + d_ij / v_c\n",
    "            if d_ij > d_thresh: \n",
    "                distances.append(d_ij)\n",
    "                p_ij = scale*np.exp(-0.5 * (d_ij**2/width**2))\n",
    "                probabilities.append(p_ij)\n",
    "\n",
    "                if p_ij > p_thresh:\n",
    "                    connections.append([pre, post, weights, delay])#, [d_ij, p_ij]])\n",
    "\n",
    "    return connections, distances, probabilities"
   ]
  },
  {
   "cell_type": "markdown",
   "metadata": {},
   "source": [
    "## operative example: center-surround connections "
   ]
  },
  {
   "cell_type": "code",
   "execution_count": 35,
   "metadata": {},
   "outputs": [],
   "source": [
    "# -> see https://link.springer.com/referenceworkentry/10.1007%2F978-1-4614-6675-8_569)\n",
    "# -> see http://www.scholarpedia.org/article/Neural_inhibition"
   ]
  },
  {
   "cell_type": "code",
   "execution_count": 36,
   "metadata": {},
   "outputs": [],
   "source": [
    "# define parameters\n",
    "\n",
    "n_cell = {'excitatory': 100, 'inhibitory': 100}\n",
    "weights = {'excitatory': 0.008, 'inhibitory': 0.008}\n",
    "d_thresh = {'excitatory': 0, 'inhibitory': 2} \n",
    "p_thresh = {'excitatory': 0.1, 'inhibitory': 0.1}\n",
    "width = {'excitatory': 1, 'inhibitory': 3}\n",
    "\n",
    "# ex. look particular cases of one-to-one, all-to-all"
   ]
  },
  {
   "cell_type": "code",
   "execution_count": 37,
   "metadata": {},
   "outputs": [],
   "source": [
    "connections = {}\n",
    "distances = {}\n",
    "probabilities = {}\n",
    "\n",
    "for synapse_type in ['excitatory', 'inhibitory']:\n",
    "    connections[synapse_type], distances[synapse_type], probabilities[synapse_type] = compute_DPCDD(\n",
    "                                                                                                    n_cell[synapse_type], \n",
    "                                                                                                    n_cell[synapse_type], \n",
    "                                                                                                    weights[synapse_type], \n",
    "                                                                                                    d_thresh[synapse_type], \n",
    "                                                                                                    p_thresh[synapse_type],\n",
    "                                                                                                    width[synapse_type])"
   ]
  },
  {
   "cell_type": "code",
   "execution_count": 38,
   "metadata": {},
   "outputs": [
    {
     "data": {
      "application/vnd.jupyter.widget-view+json": {
       "model_id": "cba874cb432149109bb807996b964205",
       "version_major": 2,
       "version_minor": 0
      },
      "text/plain": [
       "Canvas(toolbar=Toolbar(toolitems=[('Home', 'Reset original view', 'home', 'home'), ('Back', 'Back to previous …"
      ]
     },
     "metadata": {},
     "output_type": "display_data"
    },
    {
     "data": {
      "text/plain": [
       "<matplotlib.legend.Legend at 0x7f17fe125f98>"
      ]
     },
     "execution_count": 38,
     "metadata": {},
     "output_type": "execute_result"
    }
   ],
   "source": [
    "# visual check\n",
    "\n",
    "fig, ax = plt.subplots(1,2, figsize=(11,5))\n",
    "fig.tight_layout(pad=3)\n",
    "axes_list = fig.axes\n",
    "\n",
    "axes_list[0].plot(np.asarray(connections['excitatory']).T[0], np.asarray(connections['excitatory']).T[1],'go', label='excitatory')\n",
    "axes_list[0].plot(np.asarray(connections['inhibitory']).T[0], np.asarray(connections['inhibitory']).T[1],'r+', label='inhibitory')\n",
    "axes_list[0].grid()\n",
    "axes_list[0].legend()\n",
    "axes_list[0].set_title('scatter plot of connections, e.g., cells from')\n",
    "axes_list[0].set_xlabel('i cells')\n",
    "axes_list[0].set_ylabel('j cells')\n",
    "axes_list[0].set_xlim(20,40)\n",
    "axes_list[0].set_ylim(20,40)\n",
    "\n",
    "\n",
    "axes_list[1].plot(distances['excitatory'],probabilities['excitatory'],'g+')\n",
    "axes_list[1].plot(distances['inhibitory'],probabilities['inhibitory'],'r+') \n",
    "axes_list[1].plot(np.arange(0, 50), 1*np.exp(-0.5 * (np.arange(0, 50)**2/width['excitatory']**2)), 'g:')\n",
    "axes_list[1].plot(np.arange(0, 50), 1*np.exp(-0.5 * (np.arange(0, 50)**2/width['inhibitory']**2)), 'r:')\n",
    "axes_list[1].grid()\n",
    "axes_list[1].set_xlim(0,15)\n",
    "axes_list[1].set_ylim(0,1)\n",
    "axes_list[1].axhline(p_thresh['excitatory'], color='k', label='p_threshold', )\n",
    "axes_list[1].set_title('probability as function of distance')\n",
    "axes_list[1].set_xlabel('distance')\n",
    "axes_list[1].set_ylabel('probability')\n",
    "axes_list[1].legend()\n",
    "\n",
    "# Plots show connections with 2 cells local excitation and 4 cells surrounding inhibition, no autapses"
   ]
  },
  {
   "cell_type": "code",
   "execution_count": 39,
   "metadata": {},
   "outputs": [
    {
     "data": {
      "text/plain": [
       "[[0, 3, 0.008, 9.571428571428571],\n",
       " [0, 4, 0.008, 12.428571428571429],\n",
       " [0, 5, 0.008, 15.285714285714286],\n",
       " [0, 6, 0.008, 18.142857142857142],\n",
       " [1, 4, 0.008, 9.571428571428571],\n",
       " [1, 5, 0.008, 12.428571428571429],\n",
       " [1, 6, 0.008, 15.285714285714286],\n",
       " [1, 7, 0.008, 18.142857142857142],\n",
       " [2, 5, 0.008, 9.571428571428571],\n",
       " [2, 6, 0.008, 12.428571428571429]]"
      ]
     },
     "execution_count": 39,
     "metadata": {},
     "output_type": "execute_result"
    }
   ],
   "source": [
    "# e.g., delay and connectivity\n",
    "\n",
    "connections['inhibitory'][0:10]"
   ]
  },
  {
   "cell_type": "markdown",
   "metadata": {},
   "source": [
    "# step6: designing projections"
   ]
  },
  {
   "cell_type": "code",
   "execution_count": 40,
   "metadata": {},
   "outputs": [],
   "source": [
    "# compute manual list of connections to have the 2-4 center-surround structure\n",
    "\n",
    "weight = {('Exc', 'Exc') : 0.08,\n",
    "          ('Exc', 'Inh') : 0.08,\n",
    "          ('Inh', 'Exc') : 0.24\n",
    "          }\n",
    "\n",
    "d_thresh = {('Exc', 'Exc'): 0, \n",
    "            ('Inh', 'Exc'): 2} \n",
    "\n",
    "p_thresh = {('Exc', 'Exc'): 0.1, \n",
    "            ('Inh', 'Exc'): 0.1}\n",
    "\n",
    "width = {('Exc', 'Exc'): 1, \n",
    "         ('Inh', 'Exc'): 3}\n",
    "\n",
    "\n",
    "\n",
    "connections = {}\n",
    "distances = {}\n",
    "probabilities = {}\n",
    "\n",
    "connections['Exc', 'Exc'], distances['Exc', 'Exc'], probabilities['Exc', 'Exc'] = compute_DPCDD(n_cells['Exc'], \n",
    "                                                                                                      n_cells['Exc'], \n",
    "                                                                                                      weight['Exc', 'Exc'], \n",
    "                                                                                                      d_thresh['Exc', 'Exc'], \n",
    "                                                                                                      p_thresh['Exc', 'Exc'], \n",
    "                                                                                                      width['Exc', 'Exc'])\n",
    "\n",
    "connections['Inh', 'Exc'], distances['Inh', 'Exc'], probabilities['Inh', 'Exc'] = compute_DPCDD(n_cells['Inh'], \n",
    "                                                                                                      n_cells['Exc'], \n",
    "                                                                                                      weight['Inh', 'Exc'], \n",
    "                                                                                                      d_thresh['Inh', 'Exc'], \n",
    "                                                                                                      p_thresh['Inh', 'Exc'], \n",
    "                                                                                                      width['Inh', 'Exc'])"
   ]
  },
  {
   "cell_type": "code",
   "execution_count": 41,
   "metadata": {},
   "outputs": [],
   "source": [
    "# make the projections (costructor links within and between populations)\n",
    "\n",
    "proj = {}\n",
    "\n",
    "\n",
    "\n",
    "proj['Exc', 'Exc'] = sim.Projection(pops['Exc'], \n",
    "                                    pops['Exc'],\n",
    "                                    connector = sim.FromListConnector(connections['Exc', 'Exc']),\n",
    "                                    synapse_type = None,\n",
    "                                    receptor_type = 'excitatory',\n",
    "                                    space = space.Space(axes = 'x'),\n",
    "                                    label = 'exc-exc connections'\n",
    "                                    )\n",
    "\n",
    "proj['Exc', 'Inh'] = sim.Projection(pops['Exc'], pops['Inh'],\n",
    "                                    connector = sim.OneToOneConnector(), \n",
    "                                    synapse_type = sim.StaticSynapse(weight=weight['Exc', 'Inh'], delay=1), \n",
    "                                    receptor_type = 'excitatory',\n",
    "                                    space = space.Space(axes = 'x'),\n",
    "                                    label = 'exc-inh connections'\n",
    "                                    )\n",
    "\n",
    "\n",
    "proj['Inh', 'Exc'] = sim.Projection(pops['Inh'], pops['Exc'],\n",
    "                                    connector = sim.FromListConnector(connections['Inh', 'Exc']),\n",
    "                                    synapse_type = None,\n",
    "                                    receptor_type = 'inhibitory',\n",
    "                                    space = space.Space(axes = 'x'),\n",
    "                                    label = 'inh-exc connections'\n",
    "                                    )\n",
    "\n",
    "# note that using the FromListConnector is not necessary set the synapse weights and delays because are already define inside\n",
    "\n",
    "# they have to be defined with other constructors (OneToOne, AllToAll, etc)"
   ]
  },
  {
   "cell_type": "code",
   "execution_count": 42,
   "metadata": {},
   "outputs": [],
   "source": [
    "# note for the the space arg with 2 or 3 dimensions\n",
    "\n",
    "\"\"\"\n",
    "pops[popName] = sim.Population(n_cells[popName], \n",
    "                               neuron_Model[popName],\n",
    "                               neuron_ModelPars[popName],\n",
    "                               structure = space.Line(dx=1.0, x0=0.0, y=0.0, z=0.0), \n",
    "                               initial_values=None, # e.g, initial_values={'v': sim.RandomDistribution('uniform', (-70.0, -60.0))},\n",
    "                               label = popName)\n",
    "\n",
    "\"\"\"\n",
    "\n",
    "\n",
    "s = {}\n",
    "s['1D'] = space.Space(axes = 'x')\n",
    "s['2D'] = space.Space(axes = 'xy')\n",
    "s['3D'] = space.Space(axes = 'xyz')\n",
    "s['Sphere'] = space.Space(axes = 'xyz')\n",
    "s['Cuboid'] = space.Space(axes = 'xyz')\n"
   ]
  },
  {
   "cell_type": "markdown",
   "metadata": {},
   "source": [
    "# step7: setting the stimulus"
   ]
  },
  {
   "cell_type": "code",
   "execution_count": 43,
   "metadata": {},
   "outputs": [
    {
     "name": "stdout",
     "output_type": "stream",
     "text": [
      "Using matplotlib backend: module://ipympl.backend_nbagg\n"
     ]
    },
    {
     "data": {
      "application/vnd.jupyter.widget-view+json": {
       "model_id": "904b8fc32c3c4eddb4f61411fc3b5ed7",
       "version_major": 2,
       "version_minor": 0
      },
      "text/plain": [
       "Canvas(toolbar=Toolbar(toolitems=[('Home', 'Reset original view', 'home', 'home'), ('Back', 'Back to previous …"
      ]
     },
     "metadata": {},
     "output_type": "display_data"
    },
    {
     "data": {
      "text/plain": [
       "[[],\n",
       " [],\n",
       " [],\n",
       " [],\n",
       " [],\n",
       " array([ 88.051998  ,  95.01461395,  95.52116749,  97.76671324,\n",
       "        119.53608144]),\n",
       " array([ 90.41289497,  91.30919298,  93.96675837, 107.09326122,\n",
       "        110.18229996]),\n",
       " array([ 86.73085611,  96.42366934, 100.24089977, 102.11634561,\n",
       "        103.50275302]),\n",
       " array([ 89.40142883,  97.00599926,  97.8731655 , 109.09095583,\n",
       "        113.19139636]),\n",
       " array([ 86.96367352,  94.59880657,  99.6017602 , 103.02191736,\n",
       "        105.04491577]),\n",
       " array([ 94.25480799, 105.74248359, 107.81701358, 113.14202357,\n",
       "        114.65353972]),\n",
       " array([ 94.17465694,  95.50105541,  97.5789795 ,  99.90944493,\n",
       "        100.25917887]),\n",
       " array([ 86.26638684,  92.29360038, 100.80186529, 101.16403911,\n",
       "        111.30133635]),\n",
       " array([100.57231202, 103.83464287, 104.35937559, 105.11200719,\n",
       "        105.21525853]),\n",
       " array([ 83.47692986,  98.28369815, 103.87255682, 106.69830097,\n",
       "        120.87435218]),\n",
       " [],\n",
       " [],\n",
       " [],\n",
       " [],\n",
       " []]"
      ]
     },
     "execution_count": 43,
     "metadata": {},
     "output_type": "execute_result"
    }
   ],
   "source": [
    "# define the list of spike sources, e.g, with a gaussian input around 100 [ms]\n",
    "\n",
    "popName = 'Thalamus'  \n",
    "\n",
    "n_cells[popName] = n_cells['Exc']\n",
    "spike_times = [[]]*n_cells[popName] #list of spike lists, where one spike list is related to one spike source\n",
    "\n",
    "# randomly select the id source\n",
    "random_sources_idx = [np.random.randint(n_cells[popName]*0.45, n_cells[popName]*0.55) for i in range(n_cells[popName])]\n",
    "\n",
    "# randomly assign for each id source a sequence of spike times, i.e., when the cell spikes\n",
    "for idx, sources in enumerate(random_sources_idx):\n",
    "    spike_times[sources] = np.sort([np.random.normal(loc=100, scale=10) for n in range(5)])\n",
    "\n",
    "spike_times\n",
    "%matplotlib\n",
    "a = plt.eventplot(spike_times)\n",
    "plt.xlabel('[ms]')\n",
    "plt.ylabel('Thalamic cells')\n",
    "plt.title('Raster plot of input spike sources')\n",
    "plt.xlim(0, simtime)\n",
    "\n",
    "spike_times[40:60]"
   ]
  },
  {
   "cell_type": "code",
   "execution_count": 44,
   "metadata": {},
   "outputs": [],
   "source": [
    "# define the spike sources populations and projections\n",
    "\n",
    "neuron_Model[popName] = sim.SpikeSourceArray(spike_times=spike_times)\n",
    "\n",
    "pops[popName] = sim.Population(n_cells[popName], \n",
    "                               neuron_Model[popName],\n",
    "                               label = popName)\n",
    "                              # add spatial constraint\n",
    "    \n",
    "proj['Thalamus', 'Exc'] = sim.Projection(pops['Thalamus'], pops['Exc'],\n",
    "                                           connector = sim.OneToOneConnector(),\n",
    "                                           synapse_type = sim.StaticSynapse(weight=0.08, delay=1),\n",
    "                                           receptor_type = 'excitatory',\n",
    "                                            #space=<pyNN.space.Space object at 0x7ff8f25a2110>,\n",
    "                                           label = 'thalamus-exc connections'\n",
    "                                            )\n"
   ]
  },
  {
   "cell_type": "code",
   "execution_count": 45,
   "metadata": {},
   "outputs": [],
   "source": [
    "# otherwise define a spike sources from poisson process\n",
    "\n",
    "do_run = False\n",
    "\n",
    "if do_run:\n",
    "    neuron_Model[popName] = sim.SpikeSourcePoisson(\n",
    "                                                rate=50.0, # [Hz]\n",
    "                                                start=100, \n",
    "                                                duration=None)\n",
    "\n",
    "    pops[popName] = sim.Population(n_cells[popName], \n",
    "                                   neuron_Model[popName],\n",
    "                                   label = popName)\n",
    "                                  # add spatial constraint\n",
    "\n",
    "    proj['Thalamus', 'Exc'] = sim.Projection(pops['Thalamus'], pops['Exc'],\n",
    "                   connector = sim.OneToOneConnector(),\n",
    "                   synapse_type = sim.StaticSynapse(weight=0.08, delay=1),\n",
    "                   receptor_type = 'excitatory',\n",
    "                    #space=<pyNN.space.Space object at 0x7ff8f25a2110>,\n",
    "                   label = 'thalamus-exc connections'\n",
    "                    )\n"
   ]
  },
  {
   "cell_type": "markdown",
   "metadata": {},
   "source": [
    "# step8: run simulation"
   ]
  },
  {
   "cell_type": "code",
   "execution_count": 46,
   "metadata": {},
   "outputs": [
    {
     "name": "stderr",
     "output_type": "stream",
     "text": [
      "2021-04-23 08:14:58 INFO: Simulating for 200 1.0ms timesteps using a hardware timestep of 1000us\n",
      "2021-04-23 08:14:58 INFO: Starting execution process\n",
      "2021-04-23 08:15:01 INFO: Time 0:00:03.123142 taken by SpallocMaxMachineGenerator\n",
      "Pre allocating resources for Extra Monitor support vertices\n",
      "|0%                          50%                         100%|\n",
      " ============================================================\n",
      "2021-04-23 08:15:10 INFO: Time 0:00:08.756716 taken by PreAllocateResourcesForExtraMonitorSupport\n",
      "Partitioning graph vertices\n",
      "|0%                          50%                         100%|\n",
      " ============================================================\n",
      "Partitioning graph edges\n",
      "|0%                          50%                         100%|\n",
      " ============================================================\n",
      "2021-04-23 08:15:14 INFO: Time 0:00:04.862318 taken by PartitionAndPlacePartitioner\n",
      "Created spalloc job 5963843\n",
      "2021-04-23 08:15:14 INFO: Created spalloc job 5963843\n",
      "Waiting for board power commands to complete.\n",
      "2021-04-23 08:15:15 INFO: Waiting for board power commands to complete.\n",
      "2021-04-23 08:15:19 INFO: Time 0:00:05.045141 taken by SpallocAllocator\n",
      "2021-04-23 08:15:19 INFO: Creating transceiver for 10.11.193.65\n",
      "2021-04-23 08:15:19 INFO: Working out if machine is booted\n",
      "2021-04-23 08:15:23 INFO: Attempting to boot machine\n",
      "2021-04-23 08:15:29 INFO: Found board with version [Version: SC&MP 3.2.5 at SpiNNaker:0:0:0 (built Thu Aug  1 08:15:06 2019)]\n",
      "2021-04-23 08:15:29 INFO: Machine communication successful\n",
      "2021-04-23 08:15:29 INFO: Detected a machine on IP address 10.11.193.65 which has 854 cores and 120.0 links\n",
      "2021-04-23 08:15:29 INFO: Time 0:00:09.633460 taken by MachineGenerator\n",
      "Generating partitioner report\n",
      "|0%                          50%                         100%|\n",
      " ============================================================\n",
      "2021-04-23 08:15:29 INFO: Time 0:00:00.013936 taken by PartitionerReport\n",
      "2021-04-23 08:15:29 INFO: Time 0:00:00.000312 taken by NetworkSpecificationReport\n",
      "Allocating virtual identifiers\n",
      "|0%                          50%                         100%|\n",
      " ============================================================\n",
      "2021-04-23 08:15:29 INFO: Time 0:00:00.033383 taken by MallocBasedChipIDAllocator\n",
      "Inserting extra monitors into graphs\n",
      "|0%                          50%                         100%|\n",
      " ============================================================\n",
      "2021-04-23 08:15:29 INFO: Time 0:00:00.029182 taken by InsertExtraMonitorVerticesToGraphs\n",
      "Writing the board chip report\n",
      "|0%                          50%                         100%|\n",
      " ============================================================\n",
      "2021-04-23 08:15:29 INFO: Time 0:00:00.010888 taken by BoardChipReport\n",
      "Filtering edges\n",
      "|0%                          50%                         100%|\n",
      " =======================================================/home/spinnaker/sPyNNaker/lib/python3.6/site-packages/spynnaker/pyNN/models/neural_projections/connectors/from_list_connector.py:129: VisibleDeprecationWarning: Creating an ndarray from ragged nested sequences (which is a list-or-tuple of lists-or-tuples-or ndarrays with different lengths or shapes) is deprecated. If you meant to do this, you must specify 'dtype=object' when creating the ndarray\n",
      "  sort_indices, numpy.cumsum(index_count)))\n",
      "=====\n",
      "2021-04-23 08:15:29 INFO: Time 0:00:00.033226 taken by GraphEdgeFilter\n",
      "Placing graph vertices\n",
      "|0%                          50%                         100%|\n",
      " ============================================================\n",
      "2021-04-23 08:15:29 INFO: Time 0:00:00.035503 taken by OneToOnePlacer\n",
      "Inserting edges between vertices which require FR speed up functionality.\n",
      "|0%                          50%                         100%|\n",
      " ============================================================\n",
      "2021-04-23 08:15:29 INFO: Time 0:00:00.044158 taken by InsertEdgesToExtraMonitorFunctionality\n",
      "Generating routing tables for data in system processes\n",
      "|0%                          50%                         100%|\n",
      " ============================================================\n",
      "2021-04-23 08:15:29 INFO: Time 0:00:00.010395 taken by DataInMulticastRoutingGenerator\n",
      "Generating fixed router routes\n",
      "|0%                          50%                         100%|\n",
      " ============================================================\n",
      "2021-04-23 08:15:29 INFO: Time 0:00:00.012036 taken by FixedRouteRouter\n",
      "Generating placement report\n",
      "|0%                          50%                         100%|\n",
      " ============================================================\n",
      "Generating placement by core report\n",
      "|0%                          50%                         100%|\n",
      " ============================================================\n",
      "2021-04-23 08:15:29 INFO: Time 0:00:00.057412 taken by PlacerReportWithApplicationGraph\n",
      "Routing\n",
      "|0%                          50%                         100%|\n",
      " ============================================================\n",
      "\n",
      "2021-04-23 08:15:29 INFO: Time 0:00:00.028702 taken by NerRoute\n",
      "Discovering tags\n",
      "|0%                          50%                         100%|\n",
      " ============================================================\n",
      "Allocating tags\n",
      "|0%                          50%                         100%|\n",
      " ============================================================\n",
      "2021-04-23 08:15:29 INFO: Time 0:00:00.039994 taken by BasicTagAllocator\n",
      "Reporting Tags\n",
      "|0%                          50%                         100%|\n",
      " ============================================================\n",
      "2021-04-23 08:15:30 INFO: Time 0:00:00.009662 taken by TagReport\n",
      "Getting number of keys required by each edge using application graph\n",
      "|0%                          50%                         100%|\n",
      " ============================================================\n",
      "2021-04-23 08:15:30 INFO: Time 0:00:00.028459 taken by EdgeToNKeysMapper\n",
      "Getting constraints for application graph\n",
      "|0%                          50%                         100%|\n",
      " ============================================================\n",
      "2021-04-23 08:15:30 INFO: Time 0:00:00.025283 taken by ProcessPartitionConstraints\n",
      "Allocating routing keys\n",
      "|0%                          50%                         100%|\n",
      " ============================================================\n",
      "2021-04-23 08:15:30 INFO: Time 0:00:00.015932 taken by MallocBasedRoutingInfoAllocator\n",
      "Generating Routing info report\n",
      "|0%                          50%                         100%|\n",
      " ============================================================\n",
      "2021-04-23 08:15:30 INFO: Time 0:00:00.021900 taken by routingInfoReports\n",
      "Generating routing tables\n",
      "|0%                          50%                         100%|\n",
      " ============================================================\n",
      "2021-04-23 08:15:30 INFO: Time 0:00:00.029320 taken by BasicRoutingTableGenerator\n",
      "Finding executable start types\n",
      "|0%                          50%                         100%|\n",
      " ============================================================\n",
      "2021-04-23 08:15:30 INFO: Time 0:00:00.028070 taken by LocateExecutableStartType\n",
      "Initialising buffers\n",
      "|0%                          50%                         100%|\n",
      " ============================================================\n",
      "2021-04-23 08:15:30 INFO: Time 0:00:00.027148 taken by BufferManagerCreator\n",
      "Generating data specifications\n",
      "|0%                          50%                         100%|\n",
      " ============================================================\n",
      "2021-04-23 08:15:30 INFO: Time 0:00:00.106454 taken by SpynnakerDataSpecificationWriter\n",
      "Preparing Routing Tables\n",
      "|0%                          50%                         100%|\n",
      " ============================================================\n",
      "2021-04-23 08:15:30 INFO: Time 0:00:00.011310 taken by RoutingSetup\n",
      "Finding binaries\n",
      "|0%                          50%                         100%|\n",
      " ============================================================\n",
      "2021-04-23 08:15:30 INFO: Time 0:00:00.031267 taken by GraphBinaryGatherer\n",
      "Running routing table compression on chip\n",
      "|0%                          50%                         100%|\n",
      " ============================================================\n",
      "2021-04-23 08:15:34 INFO: Time 0:00:04.521015 taken by MundyOnChipRouterCompression\n",
      "Generating Router table report\n",
      "|0%                          50%                         100%|\n",
      " ============================================================\n",
      "2021-04-23 08:15:34 INFO: Time 0:00:00.008439 taken by unCompressedRoutingTableReports\n",
      "loading fixed routes\n",
      "|0%                          50%                         100%|\n",
      " ============================================================\n",
      "2021-04-23 08:15:34 INFO: Time 0:00:00.047881 taken by LoadFixedRoutes\n",
      "Executing data specifications and loading data for system vertices\n",
      "|0%                          50%                         100%|\n",
      " ============================================================\n",
      "2021-04-23 08:15:35 INFO: Time 0:00:00.155138 taken by HostExecuteSystemDataSpecification\n",
      "Loading system executables onto the machine\n",
      "|0%                          50%                         100%|\n",
      " ============================================================\n",
      "2021-04-23 08:15:40 INFO: Time 0:00:05.717612 taken by LoadSystemExecutableImages\n",
      "Clearing tags\n",
      "|0%                          50%                         100%|\n",
      " ============================================================\n",
      "Loading Tags\n",
      "|0%                          50%                         100%|\n",
      " ============================================================\n",
      "2021-04-23 08:15:40 INFO: Time 0:00:00.019420 taken by TagsLoader\n",
      "Writing data\n",
      "|0%                          50%                         100%|\n",
      " ============================================================\n",
      "2021-04-23 08:15:40 INFO: Time 0:00:00.027972 taken by WriteMemoryIOData\n",
      "Executing data specifications and loading data for application vertices\n",
      "|0%                          50%                         100%|\n",
      " ============================================================\n",
      "2021-04-23 08:15:41 INFO: Time 0:00:00.169662 taken by HostExecuteApplicationDataSpecification\n",
      "Expanding Synapses\n",
      "|0%                          50%                         100%|\n",
      " ============================================================\n",
      "2021-04-23 08:15:41 INFO: Time 0:00:00.536849 taken by SynapseExpander\n",
      "Writing fixed route report\n",
      "|0%                          50%                         100%|\n",
      " ============================================================\n",
      "2021-04-23 08:15:41 INFO: Time 0:00:00.044478 taken by FixedRouteFromMachineReport\n",
      "Loading executables onto the machine\n",
      "|0%                          50%                         100%|\n",
      " ============================================================\n",
      "2021-04-23 08:15:51 INFO: Time 0:00:09.555874 taken by LoadApplicationExecutableImages\n",
      "Reading Routing Tables from Machine\n",
      "|0%                          50%                         100%|\n",
      " ============================================================\n",
      "2021-04-23 08:15:51 INFO: Time 0:00:00.014258 taken by RoutingTableFromMachineReport\n",
      "Generating compressed router table report\n",
      "|0%                          50%                         100%|\n",
      " ============================================================\n",
      "2021-04-23 08:15:51 INFO: Time 0:00:00.007103 taken by compressedRoutingTableReports\n",
      "Generating comparison of router table report\n",
      "|0%                          50%                         100%|\n",
      " ============================================================\n",
      "2021-04-23 08:15:51 INFO: Time 0:00:00.006251 taken by comparisonOfRoutingTablesReport\n",
      "2021-04-23 08:15:51 INFO: Running for 1 steps for a total of 200.0ms\n",
      "2021-04-23 08:15:51 INFO: Run 1 of 1\n",
      "Generating SDRAM usage report\n",
      "|0%                          50%                         100%|\n",
      " ============================================================\n",
      "2021-04-23 08:15:51 INFO: Time 0:00:00.063234 taken by SdramUsageReportPerChip\n",
      "Updating run time\n",
      "|0%                          50%                         100%|\n",
      " ============================================================\n",
      "2021-04-23 08:15:51 INFO: Time 0:00:00.029953 taken by ChipRuntimeUpdater\n",
      "2021-04-23 08:15:51 INFO: creating live event connection database in /home/spinnaker/CNT-2021/SpiNNaker/application_generated_data_files/2021-04-23-08-14-38-380652/run_1/input_output_database.db\n",
      "Creating graph description database\n",
      "|0%                          50%                         100%|\n",
      " ============================================================\n",
      "2021-04-23 08:15:51 INFO: Time 0:00:00.058554 taken by DatabaseInterface\n",
      "2021-04-23 08:15:51 INFO: ** Notifying external sources that the database is ready for reading **\n",
      "2021-04-23 08:15:51 INFO: Time 0:00:00.001560 taken by NotificationProtocol\n",
      "2021-04-23 08:15:51 INFO: *** Running simulation... *** \n",
      "Loading buffers\n",
      "|0%                          50%                         100%|\n",
      " ============================================================\n",
      "2021-04-23 08:15:51 INFO: ** Awaiting for a response from an external source to state its ready for the simulation to start **\n",
      "2021-04-23 08:15:51 INFO: ** Sending start / resume message to external sources to state the simulation has started or resumed. **\n",
      "2021-04-23 08:15:51 INFO: ** Awaiting for a response from an external source to state its ready for the simulation to start **\n",
      "2021-04-23 08:15:51 INFO: Application started; waiting 0.30000000000000004s for it to stop\n",
      "2021-04-23 08:15:51 INFO: ** Sending pause / stop message to external sources to state the simulation has been paused or stopped. **\n",
      "2021-04-23 08:15:51 INFO: Time 0:00:00.391869 taken by ApplicationRunner\n",
      "Extracting buffers from the last run\n",
      "|0%                          50%                         100%|\n",
      " ============================================================\n",
      "2021-04-23 08:15:52 INFO: Time 0:00:00.214856 taken by BufferExtractor\n",
      "Getting provenance data from machine graph\n",
      "|0%                          50%                         100%|\n",
      " ============================================================\n",
      "Getting provenance data from application graph\n",
      "|0%                          50%                         100%|\n",
      " ============================================================\n",
      "2021-04-23 08:15:52 INFO: Time 0:00:00.087188 taken by GraphProvenanceGatherer\n",
      "Getting provenance data\n",
      "|0%                          50%                         100%|\n",
      " ============================================================\n",
      "2021-04-23 08:15:52 INFO: Time 0:00:00.033491 taken by PlacementsProvenanceGatherer\n",
      "Getting Router Provenance\n",
      "|0%                          50%                         100%|\n",
      " ============================================================\n",
      "2021-04-23 08:15:52 INFO: Time 0:00:00.050738 taken by RouterProvenanceGatherer\n",
      "Getting profile data\n",
      "|0%                          50%                         100%|\n",
      " ============================================================\n",
      "2021-04-23 08:15:52 INFO: Time 0:00:00.031154 taken by ProfileDataGatherer\n"
     ]
    },
    {
     "data": {
      "text/plain": [
       "200.0"
      ]
     },
     "execution_count": 46,
     "metadata": {},
     "output_type": "execute_result"
    }
   ],
   "source": [
    "sim.run(simtime) # time_bins=200 [ms]\n",
    "\n",
    "# brief recap, what we are going to run:\n",
    "# - a network with two pops of 100 exc and 100 inh cells\n",
    "# - connections are center-surround\n",
    "# - thalamic input is a sequence of gussian spikes around 100ms\n",
    "\n",
    "# wait some minuts..."
   ]
  },
  {
   "cell_type": "markdown",
   "metadata": {},
   "source": [
    "# step9: save results"
   ]
  },
  {
   "cell_type": "code",
   "execution_count": 47,
   "metadata": {},
   "outputs": [
    {
     "name": "stderr",
     "output_type": "stream",
     "text": [
      "Getting spikes for Exc\n",
      "|0%                          50%                         100%|\n",
      " ============================================================\n",
      "Getting v for Exc\n",
      "|0%                          50%                         100%|\n",
      " ============================================================\n",
      "Getting gsyn_exc for Exc\n",
      "|0%                          50%                         100%|\n",
      " ============================================================\n",
      "Getting gsyn_inh for Exc\n",
      "|0%                          50%                         100%|\n",
      " ============================================================\n",
      "Getting spikes for Exc\n",
      "|0%                          50%                         100%|\n",
      " ============================================================\n",
      "Getting v for Exc\n",
      "|0%                          50%                         100%|\n",
      " ============================================================\n",
      "Getting gsyn_exc for Exc\n",
      "|0%                          50%                         100%|\n",
      " ============================================================\n",
      "Getting gsyn_inh for Exc\n",
      "|0%                          50%                         100%|\n",
      " ============================================================\n",
      "Getting spikes for Exc\n",
      "|0%                          50%                         100%|\n",
      " ============================================================\n",
      "Getting v for Exc\n",
      "|0%                          50%                         100%|\n",
      " ============================================================\n",
      "Getting gsyn_exc for Exc\n",
      "|0%                          50%                         100%|\n",
      " ============================================================\n",
      "Getting gsyn_inh for Exc\n",
      "|0%                          50%                         100%|\n",
      " ============================================================\n",
      "Getting spikes for Exc\n",
      "|0%                          50%                         100%|\n",
      " ============================================================\n",
      "Getting v for Exc\n",
      "|0%                          50%                         100%|\n",
      " ============================================================\n",
      "Getting gsyn_exc for Exc\n",
      "|0%                          50%                         100%|\n",
      " ============================================================\n",
      "Getting gsyn_inh for Exc\n",
      "|0%                          50%                         100%|\n",
      " ============================================================\n",
      "Getting spikes for Exc\n",
      "|0%                          50%                         100%|\n",
      " ============================================================\n",
      "Getting v for Exc\n",
      "|0%                          50%                         100%|\n",
      " ============================================================\n",
      "Getting gsyn_exc for Exc\n",
      "|0%                          50%                         100%|\n",
      " ============================================================\n",
      "Getting gsyn_inh for Exc\n",
      "|0%                          50%                         100%|\n",
      " ============================================================\n",
      "Getting spikes for Inh\n",
      "|0%                          50%                         100%|\n",
      " ============================================================\n",
      "Getting v for Inh\n",
      "|0%                          50%                         100%|\n",
      " ============================================================\n",
      "2021-04-23 08:16:48 WARNING: Warning getting data on a whole population when selective recording is active will result in only the requested neurons being returned in numerical order and without repeats.\n",
      "Getting gsyn_exc for Inh\n",
      "|0%                          50%                         100%|\n",
      " ============================================================\n",
      "Getting gsyn_inh for Inh\n",
      "|0%                          50%                         100%|\n",
      " ============================================================\n",
      "Getting spikes for Inh\n",
      "|0%                          50%                         100%|\n",
      " ============================================================\n",
      "Getting v for Inh\n",
      "|0%                          50%                         100%|\n",
      " ============================================================\n",
      "Getting gsyn_exc for Inh\n",
      "|0%                          50%                         100%|\n",
      " ============================================================\n",
      "Getting gsyn_inh for Inh\n",
      "|0%                          50%                         100%|\n",
      " ============================================================\n",
      "Getting spikes for Inh\n",
      "|0%                          50%                         100%|\n",
      " ============================================================\n",
      "Getting v for Inh\n",
      "|0%                          50%                         100%|\n",
      " ============================================================\n",
      "Getting gsyn_exc for Inh\n",
      "|0%                          50%                         100%|\n",
      " ============================================================\n",
      "Getting gsyn_inh for Inh\n",
      "|0%                          50%                         100%|\n",
      " ============================================================\n",
      "Getting spikes for Inh\n",
      "|0%                          50%                         100%|\n",
      " ============================================================\n",
      "Getting v for Inh\n",
      "|0%                          50%                         100%|\n",
      " ============================================================\n",
      "Getting gsyn_exc for Inh\n",
      "|0%                          50%                         100%|\n",
      " ============================================================\n",
      "Getting gsyn_inh for Inh\n",
      "|0%                          50%                         100%|\n",
      " ============================================================\n",
      "Getting spikes for Inh\n",
      "|0%                          50%                         100%|\n",
      " ============================================================\n",
      "Getting v for Inh\n",
      "|0%                          50%                         100%|\n",
      " ============================================================\n",
      "Getting gsyn_exc for Inh\n",
      "|0%                          50%                         100%|\n",
      " ============================================================\n",
      "Getting gsyn_inh for Inh\n",
      "|0%                          50%                         100%|\n",
      " ============================================================\n"
     ]
    }
   ],
   "source": [
    "outputs = {}\n",
    "\n",
    "for layer in ['Exc', 'Inh']:\n",
    "    \n",
    "    # save on the notebook space\n",
    "    outputs[layer] = pops[layer].get_data()\n",
    "    \n",
    "    # save in the folder space\n",
    "    for recording in ['v', 'gsyn_inh', 'gsyn_exc', 'spikes']:\n",
    "        pops[layer].write_data(str(layer) + '_' + str(recording) + '.pkl')\n",
    "        "
   ]
  },
  {
   "cell_type": "markdown",
   "metadata": {},
   "source": [
    "# step10: recover results"
   ]
  },
  {
   "cell_type": "code",
   "execution_count": 48,
   "metadata": {},
   "outputs": [],
   "source": [
    "def recover_results(outputs):\n",
    "    results = {}\n",
    "    for key in outputs.keys(): # to extract the name of the layer, e.g., Exc, Inh, Thalamus, etc  \n",
    "        \n",
    "        # to get voltage and conductances\n",
    "        for analogsignal in outputs[key].segments[0].analogsignals:\n",
    "            print(key, analogsignal.name)\n",
    "            results[key, analogsignal.name] = analogsignal\n",
    "\n",
    "        # to get spikes\n",
    "        results[key, 'spikes'] = outputs[key].segments[0].spiketrains\n",
    "    return results"
   ]
  },
  {
   "cell_type": "code",
   "execution_count": 49,
   "metadata": {},
   "outputs": [
    {
     "name": "stdout",
     "output_type": "stream",
     "text": [
      "Exc v\n",
      "Exc gsyn_exc\n",
      "Exc gsyn_inh\n",
      "Inh v\n",
      "Inh gsyn_exc\n",
      "Inh gsyn_inh\n"
     ]
    },
    {
     "data": {
      "text/plain": [
       "dict_keys([('Exc', 'v'), ('Exc', 'gsyn_exc'), ('Exc', 'gsyn_inh'), ('Exc', 'spikes'), ('Inh', 'v'), ('Inh', 'gsyn_exc'), ('Inh', 'gsyn_inh'), ('Inh', 'spikes')])"
      ]
     },
     "execution_count": 49,
     "metadata": {},
     "output_type": "execute_result"
    }
   ],
   "source": [
    "# check results\n",
    "\n",
    "results = recover_results(outputs)\n",
    "results.keys()"
   ]
  },
  {
   "cell_type": "markdown",
   "metadata": {},
   "source": [
    "# step11: postprocessing (looking the results)"
   ]
  },
  {
   "cell_type": "code",
   "execution_count": 50,
   "metadata": {},
   "outputs": [],
   "source": [
    "# eventually import pkl files\n",
    "\n",
    "do_run = False\n",
    "\n",
    "if do_run:\n",
    "    import pickle\n",
    "    \n",
    "    # e.g., \n",
    "    with open('Exc_v.pkl', 'rb') as f:\n",
    "            data = pickle.load(f)\n"
   ]
  },
  {
   "cell_type": "code",
   "execution_count": 51,
   "metadata": {},
   "outputs": [
    {
     "data": {
      "application/vnd.jupyter.widget-view+json": {
       "model_id": "14f48bf04af149f49f7b3360ecf11a3c",
       "version_major": 2,
       "version_minor": 0
      },
      "text/plain": [
       "Canvas(toolbar=Toolbar(toolitems=[('Home', 'Reset original view', 'home', 'home'), ('Back', 'Back to previous …"
      ]
     },
     "metadata": {},
     "output_type": "display_data"
    },
    {
     "name": "stderr",
     "output_type": "stream",
     "text": [
      "2021-04-23 08:16:52 WARNING: No handles with labels found to put in legend.\n"
     ]
    },
    {
     "data": {
      "application/vnd.jupyter.widget-view+json": {
       "model_id": "8464c248f80f49baba811ef77474bd3d",
       "version_major": 2,
       "version_minor": 0
      },
      "text/plain": [
       "Canvas(toolbar=Toolbar(toolitems=[('Home', 'Reset original view', 'home', 'home'), ('Back', 'Back to previous …"
      ]
     },
     "metadata": {},
     "output_type": "display_data"
    }
   ],
   "source": [
    "# check the spikes\n",
    "\n",
    "fig, axes = plt.subplots(1, 1)\n",
    "fig.tight_layout(pad=5)\n",
    "axes_list = fig.axes\n",
    "\n",
    "for idx, value in enumerate(['Exc']):\n",
    "    axes_list[idx].eventplot(results[value, 'spikes'])\n",
    "    axes_list[idx].eventplot(spike_times, color='r')\n",
    "    axes_list[idx].set_title('rasterplot of ' + str(value) + ' layer')\n",
    "    axes_list[idx].set_xlabel('[ms]')\n",
    "    axes_list[idx].set_ylabel('cells')\n",
    "    axes_list[idx].legend()\n",
    "\n",
    "    \n",
    "fig, axes = plt.subplots(1, 1)\n",
    "fig.tight_layout(pad=5)\n",
    "axes_list = fig.axes\n",
    "\n",
    "for idx, value in enumerate(['Inh']):\n",
    "    axes_list[idx].eventplot(results[value, 'spikes'])\n",
    "    axes_list[idx].eventplot(spike_times, color='r')\n",
    "    axes_list[idx].set_title('rasterplot of ' + str(value) + ' layer')\n",
    "    axes_list[idx].set_xlabel('[ms]')\n",
    "    axes_list[idx].set_ylabel('cells')\n",
    "\n",
    "    \n",
    "# in red the spikes from the sources"
   ]
  },
  {
   "cell_type": "code",
   "execution_count": 52,
   "metadata": {},
   "outputs": [
    {
     "data": {
      "application/vnd.jupyter.widget-view+json": {
       "model_id": "c30dc1270773498eb7d1f5aea01525f5",
       "version_major": 2,
       "version_minor": 0
      },
      "text/plain": [
       "Canvas(toolbar=Toolbar(toolitems=[('Home', 'Reset original view', 'home', 'home'), ('Back', 'Back to previous …"
      ]
     },
     "metadata": {},
     "output_type": "display_data"
    },
    {
     "data": {
      "application/vnd.jupyter.widget-view+json": {
       "model_id": "e3455addcc15416381319144a31d733d",
       "version_major": 2,
       "version_minor": 0
      },
      "text/plain": [
       "Canvas(toolbar=Toolbar(toolitems=[('Home', 'Reset original view', 'home', 'home'), ('Back', 'Back to previous …"
      ]
     },
     "metadata": {},
     "output_type": "display_data"
    }
   ],
   "source": [
    "# check the voltage\n",
    "\n",
    "fig, axes = plt.subplots(1, 1)#, sharex=True)\n",
    "fig.tight_layout(pad=4)\n",
    "axes_list = fig.axes\n",
    "for idx, value in enumerate(['Exc']):\n",
    "    im = axes_list[idx].imshow(results[value, 'v'].T)\n",
    "    axes_list[idx].set_title('voltage of ' + str(value) + ' layer')\n",
    "    axes_list[idx].set_xlabel('time [ms]')\n",
    "    axes_list[idx].set_ylabel('cells')\n",
    "    fig.colorbar(im, ax=axes_list[idx], fraction=0.010, label='[mV]')\n",
    "    \n",
    "fig, axes = plt.subplots(1, 1)#, sharex=True)\n",
    "fig.tight_layout(pad=4)\n",
    "axes_list = fig.axes\n",
    "for idx, value in enumerate(['Inh']):\n",
    "    im = axes_list[idx].imshow(results[value, 'v'].T)\n",
    "    axes_list[idx].set_title('voltage of ' + str(value) + ' layer')\n",
    "    axes_list[idx].set_xlabel('time [ms]')\n",
    "    axes_list[idx].set_ylabel('cells')\n",
    "    fig.colorbar(im, ax=axes_list[idx], fraction=0.010, label='[mV]')"
   ]
  },
  {
   "cell_type": "code",
   "execution_count": 53,
   "metadata": {},
   "outputs": [
    {
     "data": {
      "application/vnd.jupyter.widget-view+json": {
       "model_id": "fe071906d60b4da9910670c817774cf7",
       "version_major": 2,
       "version_minor": 0
      },
      "text/plain": [
       "Canvas(toolbar=Toolbar(toolitems=[('Home', 'Reset original view', 'home', 'home'), ('Back', 'Back to previous …"
      ]
     },
     "metadata": {},
     "output_type": "display_data"
    },
    {
     "data": {
      "application/vnd.jupyter.widget-view+json": {
       "model_id": "c58116a7c93e4ea2967fc98ea85cb581",
       "version_major": 2,
       "version_minor": 0
      },
      "text/plain": [
       "Canvas(toolbar=Toolbar(toolitems=[('Home', 'Reset original view', 'home', 'home'), ('Back', 'Back to previous …"
      ]
     },
     "metadata": {},
     "output_type": "display_data"
    }
   ],
   "source": [
    "# check the conductances\n",
    "\n",
    "for layer in ['Exc', 'Inh']:\n",
    "    fig, axes = plt.subplots(1, 1)#, figsize=(9,5))\n",
    "    fig.tight_layout(pad=4)\n",
    "    fig.suptitle(str(layer) + ' layer')\n",
    "    axes_list = fig.axes\n",
    "    \n",
    "    for idx, gsyn in enumerate(['gsyn_exc']):#, 'gsyn_inh']):\n",
    "        im = axes_list[idx].imshow(results[layer, gsyn].T)\n",
    "        axes_list[idx].set_title(str(gsyn))\n",
    "        axes_list[idx].set_xlabel('time [ms]')\n",
    "        axes_list[idx].set_ylabel('cells')\n",
    "        fig.colorbar(im, ax=axes_list[idx], fraction=0.010, label='[uS]')"
   ]
  },
  {
   "cell_type": "markdown",
   "metadata": {},
   "source": [
    "# step12: close simulation\n"
   ]
  },
  {
   "cell_type": "code",
   "execution_count": 54,
   "metadata": {},
   "outputs": [],
   "source": [
    "sim.end()"
   ]
  },
  {
   "cell_type": "markdown",
   "metadata": {},
   "source": [
    "# learn-by-examples [block2, 10:25 - 12:00]\n",
    "\n",
    "- [1D entry network](eg_1D_entry-network.ipynb)\n",
    "- [1D testing cell models network](eg_1D_testing-cell-models-network.ipynb)\n",
    "- [1D testing STDP model network](eg_1D_testing-STDP-model-network.ipynb)\n",
    "- [1D small-world network](eg_1D_small-world-network.ipynb)\n",
    "- [1D decaying network](eg_1D_decaying-network.ipynb)\n",
    "- [1D persistent network](eg_1D_persistent-network.ipynb)\n",
    "- [1D diverging network](eg_1D_diverging-network.ipynb)\n",
    "\n",
    "\n",
    "\n"
   ]
  },
  {
   "cell_type": "markdown",
   "metadata": {},
   "source": [
    "# learn-with-exercices and resume with link for the afternoon [block3, 12:00 - 12:30]\n",
    "\n",
    "- [ex_network_A](ex_network_A.ipynb), i.e., a 1D network of 100 cells that receives a sequence of random thalamic inputs\n",
    "- [ex_network_B](ex_network_B.ipynb), i.e., a 2D network of 900 excitatory cells that receives a sequence of 2D geometric thalamic inputs\n",
    "- read the material and playing with examples\n",
    "- resources:\n",
    "    - SpiNNaker Jupyter Lab login at https://spinn-20.cs.man.ac.uk/hub/home\n",
    "    - clone repository https://github.com/albertoarturovergani/CNT-2021\n",
    "    - SpiNNaker\n"
   ]
  },
  {
   "cell_type": "markdown",
   "metadata": {},
   "source": [
    "# learn-from-scretch\n",
    "- create equivalent or extended PyNN functions by using numpy, e.g., specially for peculiar type of connectivities (use FromListConnector)\n",
    "- create a network and check the [balance]( http://www.scholarpedia.org/article/Balance_of_excitation_and_inhibition) between excitatory and inhibitory components  (e.g. [Brette et al 2007](http://neuralensemble.org/docs/PyNN/examples/VAbenchmarks.html))\n",
    "- explore boundary conditions in 1D by comparing open and close ring networks (define properly the list of connections)\n",
    "- compare two populations of different cell models and observe their difference on reacting to a stimulus\n",
    "- create a network to make a deep signal processing with statistics, data analysis, and exploration of the frequency domain (FFT, HHT)\n",
    "- design a set of stimuli with different onset timing and shape and test them on a simple network\n",
    "- take one [example](http://neuralensemble.org/docs/PyNN/examples.html) from the PyNN website made for NEST and adapt to run on SpiNNaker\n",
    "- take one example from the learn-by-examples section and extend it in 2D or 3D  \n",
    "- use the notebook called [eg_nD_blank_network](eg_nD_blank-network.ipynb) and start your personal simulations\n",
    "\n",
    "\n"
   ]
  },
  {
   "cell_type": "code",
   "execution_count": null,
   "metadata": {},
   "outputs": [],
   "source": []
  },
  {
   "cell_type": "code",
   "execution_count": null,
   "metadata": {},
   "outputs": [],
   "source": []
  }
 ],
 "metadata": {
  "kernelspec": {
   "display_name": "sPyNNaker",
   "language": "python",
   "name": "spynnaker"
  },
  "language_info": {
   "codemirror_mode": {
    "name": "ipython",
    "version": 3
   },
   "file_extension": ".py",
   "mimetype": "text/x-python",
   "name": "python",
   "nbconvert_exporter": "python",
   "pygments_lexer": "ipython3",
   "version": "3.6.9"
  }
 },
 "nbformat": 4,
 "nbformat_minor": 4
}
