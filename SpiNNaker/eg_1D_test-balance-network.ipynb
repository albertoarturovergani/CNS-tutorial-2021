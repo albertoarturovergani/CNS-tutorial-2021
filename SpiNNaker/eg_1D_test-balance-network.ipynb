{
 "cells": [
  {
   "cell_type": "markdown",
   "metadata": {},
   "source": [
    "# eg_test-balance function\n",
    "# from Balanced Random Cortex-like Network (Hard)\n"
   ]
  },
  {
   "cell_type": "code",
   "execution_count": 1,
   "metadata": {},
   "outputs": [],
   "source": [
    "n_neurons = 100"
   ]
  },
  {
   "cell_type": "code",
   "execution_count": 2,
   "metadata": {},
   "outputs": [
    {
     "name": "stderr",
     "output_type": "stream",
     "text": [
      "2021-04-28 10:18:51 INFO: Read cfg files: /home/spinnaker/sPyNNaker/lib/python3.6/site-packages/spinn_front_end_common/interface/spinnaker.cfg, /home/spinnaker/sPyNNaker/lib/python3.6/site-packages/spynnaker/pyNN/spynnaker.cfg, /home/spinnaker/.spynnaker.cfg\n",
      "2021-04-28 10:18:51 INFO: Will search these locations for binaries: /home/spinnaker/sPyNNaker/lib/python3.6/site-packages/spinn_front_end_common/common_model_binaries : /home/spinnaker/sPyNNaker/lib/python3.6/site-packages/spynnaker/pyNN/model_binaries\n",
      "2021-04-28 10:18:51 WARNING: /home/spinnaker/CNT-2021/SpiNNaker/reports has 8 old reports that have not been closed\n",
      "2021-04-28 10:18:51 WARNING: /home/spinnaker/CNT-2021/SpiNNaker/application_generated_data_files has 8 old reports that have not been closed\n",
      "2021-04-28 10:18:51 INFO: Setting time scale factor to 1.\n",
      "2021-04-28 10:18:51 INFO: Setting machine time step to 1000 micro-seconds.\n"
     ]
    },
    {
     "name": "stdout",
     "output_type": "stream",
     "text": [
      "Detected PyNN version 0.9.4 and Neo version 0.6.1\n",
      "['/home/spinnaker/sPyNNaker/lib/python3.6/site-packages/spinn_front_end_common/interface/spinnaker.cfg', '/home/spinnaker/sPyNNaker/lib/python3.6/site-packages/spynnaker/pyNN/spynnaker.cfg', '/home/spinnaker/.spynnaker.cfg']\n"
     ]
    },
    {
     "data": {
      "text/plain": [
       "0"
      ]
     },
     "execution_count": 2,
     "metadata": {},
     "output_type": "execute_result"
    }
   ],
   "source": [
    "import pyNN.spiNNaker as p\n",
    "p.setup(1)"
   ]
  },
  {
   "cell_type": "code",
   "execution_count": 3,
   "metadata": {},
   "outputs": [],
   "source": [
    "exc = p.Population(int(n_neurons * 0.8), p.IF_curr_exp())\n",
    "inh = p.Population(int(n_neurons * 0.2), p.IF_curr_exp())"
   ]
  },
  {
   "cell_type": "code",
   "execution_count": 4,
   "metadata": {},
   "outputs": [],
   "source": [
    "exc_poisson = p.Population(int(n_neurons * 0.8), p.SpikeSourcePoisson(rate=1000.0))\n",
    "inh_poisson = p.Population(int(n_neurons * 0.2), p.SpikeSourcePoisson(rate=1000.0))"
   ]
  },
  {
   "cell_type": "code",
   "execution_count": 5,
   "metadata": {},
   "outputs": [
    {
     "data": {
      "text/plain": [
       "projection from pre SpikeSourcePoissonVertex_3 to post AbstractPopulationVertex_1 with connector OneToOneConnector()"
      ]
     },
     "execution_count": 5,
     "metadata": {},
     "output_type": "execute_result"
    }
   ],
   "source": [
    "p.Projection(exc_poisson, exc, p.OneToOneConnector(), p.StaticSynapse(weight=0.11, delay=1.0), receptor_type=\"excitatory\")"
   ]
  },
  {
   "cell_type": "code",
   "execution_count": 6,
   "metadata": {},
   "outputs": [
    {
     "data": {
      "text/plain": [
       "projection from pre SpikeSourcePoissonVertex_4 to post AbstractPopulationVertex_2 with connector OneToOneConnector()"
      ]
     },
     "execution_count": 6,
     "metadata": {},
     "output_type": "execute_result"
    }
   ],
   "source": [
    "p.Projection(inh_poisson, inh, p.OneToOneConnector(), p.StaticSynapse(weight=0.11, delay=1.0), receptor_type=\"excitatory\")"
   ]
  },
  {
   "cell_type": "code",
   "execution_count": 7,
   "metadata": {},
   "outputs": [
    {
     "data": {
      "text/plain": [
       "projection from pre AbstractPopulationVertex_1 to post AbstractPopulationVertex_2 with connector FixedProbabilityConnector(0.1)"
      ]
     },
     "execution_count": 7,
     "metadata": {},
     "output_type": "execute_result"
    }
   ],
   "source": [
    "import numpy\n",
    "exc_weights = p.RandomDistribution(\"normal_clipped\", mu=0.1, sigma=0.1, low=0, high=numpy.inf)\n",
    "exc_delays = p.RandomDistribution(\"normal_clipped\", mu=1.5, sigma=0.75, low=0.1, high=14.4)\n",
    "p.Projection(exc, exc, p.FixedProbabilityConnector(0.1), p.StaticSynapse(weight=exc_weights, delay=exc_delays), receptor_type=\"excitatory\")\n",
    "p.Projection(exc, inh, p.FixedProbabilityConnector(0.1), p.StaticSynapse(weight=exc_weights, delay=exc_delays), receptor_type=\"excitatory\")"
   ]
  },
  {
   "cell_type": "code",
   "execution_count": 8,
   "metadata": {},
   "outputs": [
    {
     "data": {
      "text/plain": [
       "projection from pre AbstractPopulationVertex_2 to post AbstractPopulationVertex_1 with connector FixedProbabilityConnector(0.1)"
      ]
     },
     "execution_count": 8,
     "metadata": {},
     "output_type": "execute_result"
    }
   ],
   "source": [
    "inh_weights = p.RandomDistribution(\"normal_clipped\", mu=0.4, sigma=0.1, low=0, high=numpy.inf)\n",
    "inh_delays = p.RandomDistribution(\"normal_clipped\", mu=1.5, sigma=0.75, low=0.1, high=14.4)\n",
    "p.Projection(inh, inh, p.FixedProbabilityConnector(0.1), p.StaticSynapse(weight=inh_weights, delay=inh_delays), receptor_type=\"inhibitory\")\n",
    "p.Projection(inh, exc, p.FixedProbabilityConnector(0.1), p.StaticSynapse(weight=inh_weights, delay=inh_delays), receptor_type=\"inhibitory\")"
   ]
  },
  {
   "cell_type": "code",
   "execution_count": 9,
   "metadata": {},
   "outputs": [],
   "source": [
    "exc.initialize(v=p.RandomDistribution(\"uniform\", low=-65.0, high=-55.0))\n",
    "inh.initialize(v=p.RandomDistribution(\"uniform\", low=-65.0, high=-55.0))"
   ]
  },
  {
   "cell_type": "code",
   "execution_count": 10,
   "metadata": {},
   "outputs": [
    {
     "name": "stderr",
     "output_type": "stream",
     "text": [
      "2021-04-28 10:18:59 WARNING: You are trying to record the excitatory conductance from a model which does not use conductance input. You will receive current measurements instead.\n",
      "2021-04-28 10:18:59 WARNING: You are trying to record the inhibitory conductance from a model which does not use conductance input. You will receive current measurements instead.\n"
     ]
    }
   ],
   "source": [
    "exc.record([\"spikes\", \"v\", \"gsyn_exc\", \"gsyn_inh\"])\n",
    "inh.record([\"spikes\", \"v\", \"gsyn_exc\", \"gsyn_inh\"])"
   ]
  },
  {
   "cell_type": "code",
   "execution_count": 11,
   "metadata": {},
   "outputs": [
    {
     "name": "stderr",
     "output_type": "stream",
     "text": [
      "2021-04-28 10:19:00 INFO: Simulating for 1000 1.0ms timesteps using a hardware timestep of 1000us\n",
      "2021-04-28 10:19:00 INFO: Starting execution process\n",
      "2021-04-28 10:19:03 INFO: Time 0:00:03.247319 taken by SpallocMaxMachineGenerator\n",
      "Pre allocating resources for Extra Monitor support vertices\n",
      "|0%                          50%                         100%|\n",
      " ============================================================\n",
      "2021-04-28 10:19:11 INFO: Time 0:00:08.380528 taken by PreAllocateResourcesForExtraMonitorSupport\n",
      "Partitioning graph vertices\n",
      "|0%                          50%                         100%|\n",
      " ============================================================\n",
      "Partitioning graph edges\n",
      "|0%                          50%                         100%|\n",
      " ============================================================\n",
      "2021-04-28 10:19:16 INFO: Time 0:00:04.725107 taken by PartitionAndPlacePartitioner\n",
      "Created spalloc job 5968232\n",
      "2021-04-28 10:19:16 INFO: Created spalloc job 5968232\n",
      "Waiting for board power commands to complete.\n",
      "2021-04-28 10:19:16 INFO: Waiting for board power commands to complete.\n",
      "2021-04-28 10:19:21 INFO: Time 0:00:05.055545 taken by SpallocAllocator\n",
      "2021-04-28 10:19:21 INFO: Creating transceiver for 10.11.208.129\n",
      "2021-04-28 10:19:21 INFO: Working out if machine is booted\n",
      "2021-04-28 10:19:25 INFO: Attempting to boot machine\n",
      "2021-04-28 10:19:31 INFO: Found board with version [Version: SC&MP 3.2.5 at SpiNNaker:0:0:0 (built Thu Aug  1 08:15:06 2019)]\n",
      "2021-04-28 10:19:31 INFO: Machine communication successful\n",
      "2021-04-28 10:19:31 INFO: Detected a machine on IP address 10.11.208.129 which has 855 cores and 120.0 links\n",
      "2021-04-28 10:19:31 INFO: Time 0:00:09.634601 taken by MachineGenerator\n",
      "Generating partitioner report\n",
      "|0%                          50%                         100%|\n",
      " ============================================================\n",
      "2021-04-28 10:19:31 INFO: Time 0:00:00.008872 taken by PartitionerReport\n",
      "2021-04-28 10:19:31 INFO: Time 0:00:00.000397 taken by NetworkSpecificationReport\n",
      "Allocating virtual identifiers\n",
      "|0%                          50%                         100%|\n",
      " ============================================================\n",
      "2021-04-28 10:19:31 INFO: Time 0:00:00.024995 taken by MallocBasedChipIDAllocator\n",
      "Inserting extra monitors into graphs\n",
      "|0%                          50%                         100%|\n",
      " ============================================================\n",
      "2021-04-28 10:19:31 INFO: Time 0:00:00.036607 taken by InsertExtraMonitorVerticesToGraphs\n",
      "Writing the board chip report\n",
      "|0%                          50%                         100%|\n",
      " ============================================================\n",
      "2021-04-28 10:19:31 INFO: Time 0:00:00.008710 taken by BoardChipReport\n",
      "Filtering edges\n",
      "|0%                          50%                         100%|\n",
      " ============================================================\n",
      "2021-04-28 10:19:31 INFO: Time 0:00:00.033325 taken by GraphEdgeFilter\n",
      "Placing graph vertices\n",
      "|0%                          50%                         100%|\n",
      " ============================================================\n",
      "2021-04-28 10:19:31 INFO: Time 0:00:00.039401 taken by OneToOnePlacer\n",
      "Inserting edges between vertices which require FR speed up functionality.\n",
      "|0%                          50%                         100%|\n",
      " ============================================================\n",
      "2021-04-28 10:19:31 INFO: Time 0:00:00.048172 taken by InsertEdgesToExtraMonitorFunctionality\n",
      "Generating routing tables for data in system processes\n",
      "|0%                          50%                         100%|\n",
      " ============================================================\n",
      "2021-04-28 10:19:31 INFO: Time 0:00:00.009297 taken by DataInMulticastRoutingGenerator\n",
      "Generating fixed router routes\n",
      "|0%                          50%                         100%|\n",
      " ============================================================\n",
      "2021-04-28 10:19:31 INFO: Time 0:00:00.008863 taken by FixedRouteRouter\n",
      "Generating placement report\n",
      "|0%                          50%                         100%|\n",
      " ============================================================\n",
      "Generating placement by core report\n",
      "|0%                          50%                         100%|\n",
      " ============================================================\n",
      "2021-04-28 10:19:31 INFO: Time 0:00:00.055694 taken by PlacerReportWithApplicationGraph\n",
      "Routing\n",
      "|0%                          50%                         100%|\n",
      " ============================================================\n",
      "\n",
      "2021-04-28 10:19:31 INFO: Time 0:00:00.032276 taken by NerRoute\n",
      "Discovering tags\n",
      "|0%                          50%                         100%|\n",
      " ============================================================\n",
      "Allocating tags\n",
      "|0%                          50%                         100%|\n",
      " ============================================================\n",
      "2021-04-28 10:19:31 INFO: Time 0:00:00.036471 taken by BasicTagAllocator\n",
      "Reporting Tags\n",
      "|0%                          50%                         100%|\n",
      " ============================================================\n",
      "2021-04-28 10:19:31 INFO: Time 0:00:00.008380 taken by TagReport\n",
      "Getting number of keys required by each edge using application graph\n",
      "|0%                          50%                         100%|\n",
      " ============================================================\n",
      "2021-04-28 10:19:31 INFO: Time 0:00:00.026181 taken by EdgeToNKeysMapper\n",
      "Getting constraints for application graph\n",
      "|0%                          50%                         100%|\n",
      " ============================================================\n",
      "2021-04-28 10:19:31 INFO: Time 0:00:00.026546 taken by ProcessPartitionConstraints\n",
      "Allocating routing keys\n",
      "|0%                          50%                         100%|\n",
      " ============================================================\n",
      "2021-04-28 10:19:31 INFO: Time 0:00:00.017701 taken by MallocBasedRoutingInfoAllocator\n",
      "Generating Routing info report\n",
      "|0%                          50%                         100%|\n",
      " ============================================================\n",
      "2021-04-28 10:19:31 INFO: Time 0:00:00.023754 taken by routingInfoReports\n",
      "Generating routing tables\n",
      "|0%                          50%                         100%|\n",
      " ============================================================\n",
      "2021-04-28 10:19:31 INFO: Time 0:00:00.030355 taken by BasicRoutingTableGenerator\n",
      "Finding executable start types\n",
      "|0%                          50%                         100%|\n",
      " ============================================================\n",
      "2021-04-28 10:19:31 INFO: Time 0:00:00.032224 taken by LocateExecutableStartType\n",
      "Initialising buffers\n",
      "|0%                          50%                         100%|\n",
      " ============================================================\n",
      "2021-04-28 10:19:31 INFO: Time 0:00:00.038900 taken by BufferManagerCreator\n",
      "Generating data specifications\n",
      "|0%                          50%                         100%|\n",
      " ============================================================\n",
      "2021-04-28 10:19:31 INFO: Time 0:00:00.120679 taken by SpynnakerDataSpecificationWriter\n",
      "Preparing Routing Tables\n",
      "|0%                          50%                         100%|\n",
      " ============================================================\n",
      "2021-04-28 10:19:31 INFO: Time 0:00:00.010887 taken by RoutingSetup\n",
      "Finding binaries\n",
      "|0%                          50%                         100%|\n",
      " ============================================================\n",
      "2021-04-28 10:19:31 INFO: Time 0:00:00.034254 taken by GraphBinaryGatherer\n",
      "Running routing table compression on chip\n",
      "|0%                          50%                         100%|\n",
      " ============================================================\n",
      "2021-04-28 10:19:36 INFO: Time 0:00:04.535483 taken by MundyOnChipRouterCompression\n",
      "Generating Router table report\n",
      "|0%                          50%                         100%|\n",
      " ============================================================\n",
      "2021-04-28 10:19:36 INFO: Time 0:00:00.008270 taken by unCompressedRoutingTableReports\n",
      "loading fixed routes\n",
      "|0%                          50%                         100%|\n",
      " ============================================================\n",
      "2021-04-28 10:19:36 INFO: Time 0:00:00.042446 taken by LoadFixedRoutes\n",
      "Executing data specifications and loading data for system vertices\n",
      "|0%                          50%                         100%|\n",
      " ============================================================\n",
      "2021-04-28 10:19:36 INFO: Time 0:00:00.155699 taken by HostExecuteSystemDataSpecification\n",
      "Loading system executables onto the machine\n",
      "|0%                          50%                         100%|\n",
      " ============================================================\n",
      "2021-04-28 10:19:42 INFO: Time 0:00:05.708468 taken by LoadSystemExecutableImages\n",
      "Clearing tags\n",
      "|0%                          50%                         100%|\n",
      " ============================================================\n",
      "Loading Tags\n",
      "|0%                          50%                         100%|\n",
      " ============================================================\n",
      "2021-04-28 10:19:42 INFO: Time 0:00:00.024773 taken by TagsLoader\n",
      "Writing data\n",
      "|0%                          50%                         100%|\n",
      " ============================================================\n",
      "2021-04-28 10:19:42 INFO: Time 0:00:00.030526 taken by WriteMemoryIOData\n",
      "Executing data specifications and loading data for application vertices\n",
      "|0%                          50%                         100%|\n",
      " ============================================================\n",
      "2021-04-28 10:19:42 INFO: Time 0:00:00.169914 taken by HostExecuteApplicationDataSpecification\n",
      "Expanding Synapses\n",
      "|0%                          50%                         100%|\n",
      " ============================================================\n",
      "2021-04-28 10:19:46 INFO: Time 0:00:03.888096 taken by SynapseExpander\n",
      "Writing fixed route report\n",
      "|0%                          50%                         100%|\n",
      " ============================================================\n",
      "2021-04-28 10:19:46 INFO: Time 0:00:00.046384 taken by FixedRouteFromMachineReport\n",
      "Loading executables onto the machine\n",
      "|0%                          50%                         100%|\n",
      " ============================================================\n",
      "2021-04-28 10:19:53 INFO: Time 0:00:06.862590 taken by LoadApplicationExecutableImages\n",
      "Reading Routing Tables from Machine\n",
      "|0%                          50%                         100%|\n",
      " ============================================================\n",
      "2021-04-28 10:19:53 INFO: Time 0:00:00.009828 taken by RoutingTableFromMachineReport\n",
      "Generating compressed router table report\n",
      "|0%                          50%                         100%|\n",
      " ============================================================\n",
      "2021-04-28 10:19:53 INFO: Time 0:00:00.006984 taken by compressedRoutingTableReports\n",
      "Generating comparison of router table report\n",
      "|0%                          50%                         100%|\n",
      " ============================================================\n",
      "2021-04-28 10:19:53 INFO: Time 0:00:00.012215 taken by comparisonOfRoutingTablesReport\n",
      "2021-04-28 10:19:53 INFO: Running for 1 steps for a total of 1000.0ms\n",
      "2021-04-28 10:19:53 INFO: Run 1 of 1\n",
      "Generating SDRAM usage report\n",
      "|0%                          50%                         100%|\n",
      " ============================================================\n",
      "2021-04-28 10:19:53 INFO: Time 0:00:00.058277 taken by SdramUsageReportPerChip\n",
      "Updating run time\n",
      "|0%                          50%                         100%|\n",
      " ============================================================\n",
      "2021-04-28 10:19:53 INFO: Time 0:00:00.027335 taken by ChipRuntimeUpdater\n",
      "2021-04-28 10:19:53 INFO: creating live event connection database in /home/spinnaker/CNT-2021/SpiNNaker/application_generated_data_files/2021-04-28-10-18-51-125328/run_1/input_output_database.db\n",
      "Creating graph description database\n",
      "|0%                          50%                         100%|\n",
      " ============================================================\n",
      "2021-04-28 10:19:53 INFO: Time 0:00:00.051652 taken by DatabaseInterface\n",
      "2021-04-28 10:19:53 INFO: ** Notifying external sources that the database is ready for reading **\n",
      "2021-04-28 10:19:53 INFO: Time 0:00:00.001411 taken by NotificationProtocol\n",
      "2021-04-28 10:19:53 INFO: *** Running simulation... *** \n",
      "Loading buffers\n",
      "|0%                          50%                         100%|\n",
      " ============================================================\n",
      "2021-04-28 10:19:53 INFO: ** Awaiting for a response from an external source to state its ready for the simulation to start **\n",
      "2021-04-28 10:19:53 INFO: ** Sending start / resume message to external sources to state the simulation has started or resumed. **\n",
      "2021-04-28 10:19:53 INFO: ** Awaiting for a response from an external source to state its ready for the simulation to start **\n",
      "2021-04-28 10:19:53 INFO: Application started; waiting 1.1s for it to stop\n",
      "2021-04-28 10:19:54 INFO: ** Sending pause / stop message to external sources to state the simulation has been paused or stopped. **\n",
      "2021-04-28 10:19:54 INFO: Time 0:00:01.183566 taken by ApplicationRunner\n",
      "Extracting buffers from the last run\n",
      "|0%                          50%                         100%|\n",
      " ============================================================\n",
      "2021-04-28 10:19:55 INFO: Time 0:00:00.369453 taken by BufferExtractor\n",
      "Getting provenance data from machine graph\n",
      "|0%                          50%                         100%|\n",
      " ============================================================\n",
      "Getting provenance data from application graph\n",
      "|0%                          50%                         100%|\n",
      " ============================================================\n",
      "2021-04-28 10:19:55 INFO: Time 0:00:00.078567 taken by GraphProvenanceGatherer\n",
      "Getting provenance data\n",
      "|0%                          50%                         100%|\n",
      " ============================================================\n",
      "2021-04-28 10:19:55 INFO: Time 0:00:00.030085 taken by PlacementsProvenanceGatherer\n",
      "Getting Router Provenance\n",
      "|0%                          50%                         100%|\n",
      " ============================================================\n",
      "2021-04-28 10:19:55 INFO: Time 0:00:00.059177 taken by RouterProvenanceGatherer\n",
      "Getting profile data\n",
      "|0%                          50%                         100%|\n",
      " ============================================================\n",
      "2021-04-28 10:19:55 INFO: Time 0:00:00.029928 taken by ProfileDataGatherer\n"
     ]
    },
    {
     "data": {
      "text/plain": [
       "1000.0"
      ]
     },
     "execution_count": 11,
     "metadata": {},
     "output_type": "execute_result"
    }
   ],
   "source": [
    "p.run(1000)"
   ]
  },
  {
   "cell_type": "code",
   "execution_count": 13,
   "metadata": {},
   "outputs": [],
   "source": [
    "def recover_results(outputs):\n",
    "    results = {}\n",
    "\n",
    "    # to get voltage and conductances\n",
    "    for analogsignal in outputs.segments[0].analogsignals:\n",
    "        print(analogsignal.name)\n",
    "        results[analogsignal.name] = analogsignal\n",
    "\n",
    "    # to get spikes\n",
    "    results['spikes'] = outputs.segments[0].spiketrains\n",
    "    return results"
   ]
  },
  {
   "cell_type": "code",
   "execution_count": 14,
   "metadata": {},
   "outputs": [
    {
     "name": "stderr",
     "output_type": "stream",
     "text": [
      "Getting spikes for AbstractPopulationVertex_1\n",
      "|0%                          50%                         100%|\n",
      " ============================================================\n",
      "Getting v for AbstractPopulationVertex_1\n",
      "|0%                          50%                         100%|\n",
      " ============================================================\n",
      "Getting gsyn_exc for AbstractPopulationVertex_1\n",
      "|0%                          50%                         100%|\n",
      " ============================================================\n",
      "Getting gsyn_inh for AbstractPopulationVertex_1\n",
      "|0%                          50%                         100%|\n",
      " ============================================================\n"
     ]
    },
    {
     "name": "stdout",
     "output_type": "stream",
     "text": [
      "v\n",
      "gsyn_exc\n",
      "gsyn_inh\n"
     ]
    }
   ],
   "source": [
    "results = recover_results(exc.get_data())"
   ]
  },
  {
   "cell_type": "code",
   "execution_count": 130,
   "metadata": {},
   "outputs": [
    {
     "data": {
      "text/plain": [
       "dict_keys(['v', 'gsyn_exc', 'gsyn_inh', 'spikes'])"
      ]
     },
     "execution_count": 130,
     "metadata": {},
     "output_type": "execute_result"
    }
   ],
   "source": [
    "results.keys()  \n",
    "    "
   ]
  },
  {
   "cell_type": "code",
   "execution_count": 127,
   "metadata": {},
   "outputs": [],
   "source": [
    "import numpy as np\n",
    "\n",
    "# compute the averaged mean instantanous population balance (AMIPB)\n",
    "def computeBalance(results):\n",
    "    \n",
    "    # compute the instantanous population balance \n",
    "    balance = []\n",
    "    for t in range(time):\n",
    "        for c in range(cells):\n",
    "            gsyn_tot = results['gsyn_exc'][t,c] + results['gsyn_inh'][t,c]\n",
    "            balance += [results['gsyn_exc'][t,c] / gsyn_tot]\n",
    "    balance = np.asarray(balance).reshape(time, cells)\n",
    "    \n",
    "    # compute the averaged mean instantanous population balance (AMIPB)\n",
    "    AMIPB = np.nanmean([np.nanmean(balance[t,:]) for t in range(time)])\n",
    "    \n",
    "    return AMIPB"
   ]
  },
  {
   "cell_type": "code",
   "execution_count": 131,
   "metadata": {},
   "outputs": [
    {
     "name": "stderr",
     "output_type": "stream",
     "text": [
      "/home/spinnaker/sPyNNaker/lib/python3.6/site-packages/ipykernel_launcher.py:11: RuntimeWarning: invalid value encountered in true_divide\n",
      "  # This is added back by InteractiveShellApp.init_path()\n",
      "/home/spinnaker/sPyNNaker/lib/python3.6/site-packages/ipykernel_launcher.py:15: RuntimeWarning: Mean of empty slice\n",
      "  from ipykernel import kernelapp as app\n"
     ]
    },
    {
     "data": {
      "text/plain": [
       "0.9966831845998051"
      ]
     },
     "execution_count": 131,
     "metadata": {},
     "output_type": "execute_result"
    }
   ],
   "source": [
    "balance = computeBalance(results)\n",
    "balance"
   ]
  },
  {
   "cell_type": "code",
   "execution_count": 129,
   "metadata": {},
   "outputs": [],
   "source": [
    "p.end()"
   ]
  },
  {
   "cell_type": "code",
   "execution_count": null,
   "metadata": {},
   "outputs": [],
   "source": []
  }
 ],
 "metadata": {
  "kernelspec": {
   "display_name": "sPyNNaker",
   "language": "python",
   "name": "spynnaker"
  },
  "language_info": {
   "codemirror_mode": {
    "name": "ipython",
    "version": 3
   },
   "file_extension": ".py",
   "mimetype": "text/x-python",
   "name": "python",
   "nbconvert_exporter": "python",
   "pygments_lexer": "ipython3",
   "version": "3.6.9"
  }
 },
 "nbformat": 4,
 "nbformat_minor": 4
}
